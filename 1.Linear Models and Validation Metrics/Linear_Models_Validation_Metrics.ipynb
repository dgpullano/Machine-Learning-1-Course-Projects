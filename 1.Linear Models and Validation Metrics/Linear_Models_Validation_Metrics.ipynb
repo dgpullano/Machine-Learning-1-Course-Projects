{
  "cells": [
    {
      "cell_type": "markdown",
      "id": "92778525",
      "metadata": {
        "id": "92778525",
        "tags": []
      },
      "source": [
        "### Name: Dillon Pullano"
      ]
    },
    {
      "cell_type": "markdown",
      "id": "e90b5c44-4dc8-466f-ae24-90ec10029548",
      "metadata": {
        "id": "e90b5c44-4dc8-466f-ae24-90ec10029548"
      },
      "source": [
        "### In this assignment, you will need to write code that uses linear models to perform classification and regression tasks. You will also be asked to describe the process by which you came up with the code. More details can be found below. Please cite any websites or AI tools that you used to help you with this assignment."
      ]
    },
    {
      "cell_type": "markdown",
      "id": "cb0f9eb4-58be-4241-a469-b13591978fd4",
      "metadata": {
        "id": "cb0f9eb4-58be-4241-a469-b13591978fd4"
      },
      "source": [
        "## Part 1: Classification (14.5 marks total)\n",
        "\n",
        "You have been asked to develop code that can help the user determine if the email they have received is spam or not. Following the machine learning workflow described in class, write the relevant code in each of the steps below:"
      ]
    },
    {
      "cell_type": "markdown",
      "id": "7e3c6fc8",
      "metadata": {
        "id": "7e3c6fc8"
      },
      "source": [
        "### Step 0: Import Libraries"
      ]
    },
    {
      "cell_type": "code",
      "execution_count": null,
      "id": "33f86925",
      "metadata": {
        "id": "33f86925",
        "tags": []
      },
      "outputs": [],
      "source": [
        "import yellowbrick.datasets as YBD\n",
        "import sklearn\n",
        "import numpy as np\n",
        "import pandas as pd"
      ]
    },
    {
      "cell_type": "markdown",
      "id": "5f9d33a8",
      "metadata": {
        "id": "5f9d33a8"
      },
      "source": [
        "### Step 1: Data Input (1 mark)\n",
        "\n",
        "The data used for this task can be downloaded using the yellowbrick library:\n",
        "https://www.scikit-yb.org/en/latest/api/datasets/spam.html\n",
        "\n",
        "Use the yellowbrick function `load_spam()` to load the spam dataset into the feature matrix `X` and target vector `y`.\n",
        "\n",
        "Print the size and type of `X` and `y`."
      ]
    },
    {
      "cell_type": "code",
      "execution_count": null,
      "id": "33583c67",
      "metadata": {
        "colab": {
          "base_uri": "https://localhost:8080/"
        },
        "id": "33583c67",
        "outputId": "f8fbe430-65c1-43eb-f9e7-e38bccb37e98",
        "tags": []
      },
      "outputs": [
        {
          "name": "stdout",
          "output_type": "stream",
          "text": [
            "\n",
            "The size of X is: 262200\n",
            "\n",
            "The shape of X is: (4600, 57)\n",
            "\n",
            "The type of X is: <class 'pandas.core.frame.DataFrame'>\n",
            "\n",
            "The type of X's attributes are:\n",
            "word_freq_make                float64\n",
            "word_freq_address             float64\n",
            "word_freq_all                 float64\n",
            "word_freq_3d                  float64\n",
            "word_freq_our                 float64\n",
            "word_freq_over                float64\n",
            "word_freq_remove              float64\n",
            "word_freq_internet            float64\n",
            "word_freq_order               float64\n",
            "word_freq_mail                float64\n",
            "word_freq_receive             float64\n",
            "word_freq_will                float64\n",
            "word_freq_people              float64\n",
            "word_freq_report              float64\n",
            "word_freq_addresses           float64\n",
            "word_freq_free                float64\n",
            "word_freq_business            float64\n",
            "word_freq_email               float64\n",
            "word_freq_you                 float64\n",
            "word_freq_credit              float64\n",
            "word_freq_your                float64\n",
            "word_freq_font                float64\n",
            "word_freq_000                 float64\n",
            "word_freq_money               float64\n",
            "word_freq_hp                  float64\n",
            "word_freq_hpl                 float64\n",
            "word_freq_george              float64\n",
            "word_freq_650                 float64\n",
            "word_freq_lab                 float64\n",
            "word_freq_labs                float64\n",
            "word_freq_telnet              float64\n",
            "word_freq_857                 float64\n",
            "word_freq_data                float64\n",
            "word_freq_415                 float64\n",
            "word_freq_85                  float64\n",
            "word_freq_technology          float64\n",
            "word_freq_1999                float64\n",
            "word_freq_parts               float64\n",
            "word_freq_pm                  float64\n",
            "word_freq_direct              float64\n",
            "word_freq_cs                  float64\n",
            "word_freq_meeting             float64\n",
            "word_freq_original            float64\n",
            "word_freq_project             float64\n",
            "word_freq_re                  float64\n",
            "word_freq_edu                 float64\n",
            "word_freq_table               float64\n",
            "word_freq_conference          float64\n",
            "char_freq_;                   float64\n",
            "char_freq_(                   float64\n",
            "char_freq_[                   float64\n",
            "char_freq_!                   float64\n",
            "char_freq_$                   float64\n",
            "char_freq_#                   float64\n",
            "capital_run_length_average    float64\n",
            "capital_run_length_longest      int64\n",
            "capital_run_length_total        int64\n",
            "dtype: object\n",
            "\n",
            "The size of y is: 4600\n",
            "\n",
            "The shape of X is: (4600,)\n",
            "\n",
            "The type of y is: int64\n"
          ]
        }
      ],
      "source": [
        "# Import spam dataset from yellowbrick library\n",
        "X, y = YBD.loaders.load_spam(data_home=None, return_dataset=False)\n",
        "\n",
        "# Print size, shape, and type of X\n",
        "print(\"\\nThe size of X is: \" + str(X.size))\n",
        "print(\"\\nThe shape of X is: \" + str(X.shape))\n",
        "print(\"\\nThe type of X is: \" + str(type(X)))\n",
        "print(\"\\nThe type of X's attributes are:\")\n",
        "print(str(X.dtypes))   # This would be used if we want to see all the types for each column in the dataframe X\n",
        "\n",
        "# Print size, shape, and type of y\n",
        "print(\"\\nThe size of y is: \" + str(y.size))\n",
        "print(\"\\nThe shape of X is: \" + str(y.shape))\n",
        "print(\"\\nThe type of y is: \" + str(y.dtypes))"
      ]
    },
    {
      "cell_type": "markdown",
      "id": "156db208",
      "metadata": {
        "id": "156db208"
      },
      "source": [
        "### Step 2: Data Processing (1.5 marks)\n",
        "\n",
        "Check to see if there are any missing values in the dataset. If necessary, select an appropriate method to fill-in the missing values."
      ]
    },
    {
      "cell_type": "code",
      "execution_count": null,
      "id": "4e7204f5",
      "metadata": {
        "colab": {
          "base_uri": "https://localhost:8080/"
        },
        "id": "4e7204f5",
        "outputId": "32a6e468-d745-483c-e12b-512e36fae58a",
        "tags": []
      },
      "outputs": [
        {
          "name": "stdout",
          "output_type": "stream",
          "text": [
            "\n",
            "The following is the count of values that are NA from the columns of X:\n",
            "\n",
            "word_freq_make                0\n",
            "word_freq_address             0\n",
            "word_freq_all                 0\n",
            "word_freq_3d                  0\n",
            "word_freq_our                 0\n",
            "word_freq_over                0\n",
            "word_freq_remove              0\n",
            "word_freq_internet            0\n",
            "word_freq_order               0\n",
            "word_freq_mail                0\n",
            "word_freq_receive             0\n",
            "word_freq_will                0\n",
            "word_freq_people              0\n",
            "word_freq_report              0\n",
            "word_freq_addresses           0\n",
            "word_freq_free                0\n",
            "word_freq_business            0\n",
            "word_freq_email               0\n",
            "word_freq_you                 0\n",
            "word_freq_credit              0\n",
            "word_freq_your                0\n",
            "word_freq_font                0\n",
            "word_freq_000                 0\n",
            "word_freq_money               0\n",
            "word_freq_hp                  0\n",
            "word_freq_hpl                 0\n",
            "word_freq_george              0\n",
            "word_freq_650                 0\n",
            "word_freq_lab                 0\n",
            "word_freq_labs                0\n",
            "word_freq_telnet              0\n",
            "word_freq_857                 0\n",
            "word_freq_data                0\n",
            "word_freq_415                 0\n",
            "word_freq_85                  0\n",
            "word_freq_technology          0\n",
            "word_freq_1999                0\n",
            "word_freq_parts               0\n",
            "word_freq_pm                  0\n",
            "word_freq_direct              0\n",
            "word_freq_cs                  0\n",
            "word_freq_meeting             0\n",
            "word_freq_original            0\n",
            "word_freq_project             0\n",
            "word_freq_re                  0\n",
            "word_freq_edu                 0\n",
            "word_freq_table               0\n",
            "word_freq_conference          0\n",
            "char_freq_;                   0\n",
            "char_freq_(                   0\n",
            "char_freq_[                   0\n",
            "char_freq_!                   0\n",
            "char_freq_$                   0\n",
            "char_freq_#                   0\n",
            "capital_run_length_average    0\n",
            "capital_run_length_longest    0\n",
            "capital_run_length_total      0\n",
            "dtype: int64\n",
            "\n",
            "The following is the count of values that are NA from y:\n",
            "\n",
            "0\n",
            "\n",
            "Thankfully there are no missing values in the dataset!\n"
          ]
        }
      ],
      "source": [
        "# Check if there are any missing values and fill them in if necessary\n",
        "print(\"\\nThe following is the count of values that are NA from the columns of X:\\n\")\n",
        "print(X.isna().sum())   # There are no missing values from X\n",
        "\n",
        "print(\"\\nThe following is the count of values that are NA from y:\\n\")\n",
        "print(y.isna().sum())   # There are no missing values from y\n",
        "\n",
        "print(\"\\nThankfully there are no missing values in the dataset!\")"
      ]
    },
    {
      "cell_type": "markdown",
      "id": "a489285a",
      "metadata": {
        "id": "a489285a"
      },
      "source": [
        "For this task, we want to test if the linear model would still work if we used less data. Use the `train_test_split` function from sklearn to create a new feature matrix named `X_small` and a new target vector named `y_small` that contain **5%** of the data."
      ]
    },
    {
      "cell_type": "code",
      "execution_count": null,
      "id": "f9bc4a23",
      "metadata": {
        "colab": {
          "base_uri": "https://localhost:8080/"
        },
        "id": "f9bc4a23",
        "outputId": "14ff5e59-f317-4439-b45b-47d5dc27b255",
        "tags": []
      },
      "outputs": [
        {
          "name": "stdout",
          "output_type": "stream",
          "text": [
            "\n",
            "The size of X_small is: 13110\n",
            "\n",
            "The shape of X_small is: (230, 57)\n",
            "\n",
            "The size of y_small is: 230\n",
            "\n",
            "The shape of y_small is: (230,)\n"
          ]
        }
      ],
      "source": [
        "# Create X_small and y_small\n",
        "X_garbage, X_small, y_garbage, y_small = sklearn.model_selection.train_test_split(X, y, test_size = 0.05, random_state = 0)\n",
        "\n",
        "# Print the size and shape of X_small\n",
        "print(\"\\nThe size of X_small is: \" + str(X_small.size))\n",
        "print(\"\\nThe shape of X_small is: \" + str(X_small.shape))\n",
        "\n",
        "# Print the size and shape of y_small\n",
        "print(\"\\nThe size of y_small is: \" + str(y_small.size))\n",
        "print(\"\\nThe shape of y_small is: \" + str(y_small.shape))"
      ]
    },
    {
      "cell_type": "markdown",
      "id": "70e6c46f",
      "metadata": {
        "id": "70e6c46f"
      },
      "source": [
        "### Step 3: Implement Machine Learning Model\n",
        "\n",
        "1. Import `LogisticRegression` from sklearn\n",
        "2. Instantiate model `LogisticRegression(max_iter=2000)`.\n",
        "3. Implement the machine learning model with three different datasets:\n",
        "    - `X` and `y`\n",
        "    - Only first two columns of `X` and `y`\n",
        "    - `X_small` and `y_small`"
      ]
    },
    {
      "cell_type": "code",
      "execution_count": null,
      "id": "a81be725-7c1d-4718-9687-159038012d9b",
      "metadata": {
        "id": "a81be725-7c1d-4718-9687-159038012d9b",
        "tags": []
      },
      "outputs": [],
      "source": [
        "# Import LogisticRegression\n",
        "from sklearn.linear_model import LogisticRegression\n",
        "\n",
        "# Instantiate a model with maximum 2000 iterations\n",
        "reg_model = LogisticRegression(max_iter = 2000)\n"
      ]
    },
    {
      "cell_type": "code",
      "execution_count": null,
      "id": "48e26033-9b16-4f67-9a65-fa06598b0703",
      "metadata": {
        "id": "48e26033-9b16-4f67-9a65-fa06598b0703",
        "tags": []
      },
      "outputs": [],
      "source": [
        "# Implement model on X and y\n",
        "reg_model_1 = reg_model\n",
        "\n",
        "# Create training and testing datasets\n",
        "X_train_1, X_test_1, y_train_1, y_test_1 = sklearn.model_selection.train_test_split(X, y, test_size = 0.2, random_state = 0)\n",
        "\n",
        "# Train the model using the training datasets\n",
        "reg_model_1.fit(X_train_1, y_train_1)\n",
        "\n",
        "# Run the model to make test predictions\n",
        "predictions_1 = reg_model_1.predict(X_test_1)\n",
        "train_predictions_1 = reg_model_1.predict(X_train_1)   # Needed for next accuracy component of assignment\n"
      ]
    },
    {
      "cell_type": "code",
      "execution_count": null,
      "id": "0f33c40f-4ba3-41bb-8641-029aec86a660",
      "metadata": {
        "id": "0f33c40f-4ba3-41bb-8641-029aec86a660",
        "tags": []
      },
      "outputs": [],
      "source": [
        "# Implement model on first 2 columns of X and y\n",
        "reg_model_2 = reg_model\n",
        "\n",
        "# Create version of X that only contains the first 2 columns\n",
        "X_first2 = X.iloc[:, 0:2]\n",
        "\n",
        "# Create training and testing datasets\n",
        "X_train_2, X_test_2, y_train_2, y_test_2 = sklearn.model_selection.train_test_split(X_first2, y, test_size = 0.2, random_state = 0)\n",
        "\n",
        "# Train the model using the training datasets\n",
        "reg_model_2.fit(X_train_2, y_train_2)\n",
        "\n",
        "# Run the model to make test predictions\n",
        "predictions_2 = reg_model_2.predict(X_test_2)\n",
        "train_predictions_2 = reg_model_2.predict(X_train_2)   # Needed for next accuracy component of assignment\n"
      ]
    },
    {
      "cell_type": "code",
      "execution_count": null,
      "id": "d9fe75cc-39f9-48ee-a60f-1c96a3d2e2e4",
      "metadata": {
        "id": "d9fe75cc-39f9-48ee-a60f-1c96a3d2e2e4",
        "tags": []
      },
      "outputs": [],
      "source": [
        "# Implement model on X_small and y_small\n",
        "reg_model_3 = reg_model\n",
        "\n",
        "# Create training and testing datasets\n",
        "X_train_3, X_test_3, y_train_3, y_test_3 = sklearn.model_selection.train_test_split(X_small, y_small, test_size = 0.2, random_state = 0)\n",
        "\n",
        "# Train the model using the training datasets\n",
        "reg_model_3.fit(X_train_3, y_train_3)\n",
        "\n",
        "# Run the model to make test predictions\n",
        "predictions_3 = reg_model_3.predict(X_test_3)\n",
        "train_predictions_3 = reg_model_3.predict(X_train_3)   # Needed for next accuracy component of assignment\n"
      ]
    },
    {
      "cell_type": "markdown",
      "id": "b89f3d84",
      "metadata": {
        "id": "b89f3d84"
      },
      "source": [
        "### Step 4: Validate Model\n",
        "\n",
        "Calculate the training and validation accuracy for the three different tests implemented in Step 3"
      ]
    },
    {
      "cell_type": "code",
      "execution_count": null,
      "id": "aa337bd7-5a47-490e-9867-e1e90cd836e3",
      "metadata": {
        "colab": {
          "base_uri": "https://localhost:8080/"
        },
        "id": "aa337bd7-5a47-490e-9867-e1e90cd836e3",
        "outputId": "c7fa821f-6f26-4adf-904e-fc86fb310c90",
        "tags": []
      },
      "outputs": [
        {
          "name": "stdout",
          "output_type": "stream",
          "text": [
            "\n",
            "The training accuracy for the first model (X and y) is: 0.9269021739130435\n",
            "The validation accuracy for the first model (X and y) is: 0.9369565217391305\n"
          ]
        }
      ],
      "source": [
        "# import accuracy score metrics\n",
        "from sklearn.metrics import accuracy_score\n",
        "\n",
        "# Calculate training and validation accuracy for model 1 (X and y)\n",
        "score1_training = accuracy_score(y_train_1, train_predictions_1)\n",
        "score1_validation = accuracy_score(y_test_1, predictions_1)\n",
        "\n",
        "# Output accuracy scores for model 1\n",
        "print(\"\\nThe training accuracy for the first model (X and y) is: \" + str(score1_training))\n",
        "print(\"The validation accuracy for the first model (X and y) is: \" + str(score1_validation))\n"
      ]
    },
    {
      "cell_type": "code",
      "execution_count": null,
      "id": "3c2a8687-4f23-4292-a8be-4d2c3eeae02b",
      "metadata": {
        "colab": {
          "base_uri": "https://localhost:8080/"
        },
        "id": "3c2a8687-4f23-4292-a8be-4d2c3eeae02b",
        "outputId": "9efbb34f-9663-41f8-b4fc-355c788177ac",
        "tags": []
      },
      "outputs": [
        {
          "name": "stdout",
          "output_type": "stream",
          "text": [
            "The training accuracy for the second model (first 2 columns of X and y) is: 0.6149456521739131\n",
            "The validation accuracy for the second model (first 2 columns of X and y) is: 0.5934782608695652\n"
          ]
        }
      ],
      "source": [
        "# Calculate training and validation accuracy for model 2 (first 2 rows of X and y)\n",
        "score2_training = accuracy_score(y_train_2, train_predictions_2)\n",
        "score2_validation = accuracy_score(y_test_2, predictions_2)\n",
        "\n",
        "# Output accuracy scores for model 2\n",
        "print(\"The training accuracy for the second model (first 2 columns of X and y) is: \" + str(score2_training))\n",
        "print(\"The validation accuracy for the second model (first 2 columns of X and y) is: \" + str(score2_validation))\n"
      ]
    },
    {
      "cell_type": "code",
      "execution_count": null,
      "id": "e6f8bffa-dae4-4b9f-9dcf-a7d0d8c58f88",
      "metadata": {
        "colab": {
          "base_uri": "https://localhost:8080/"
        },
        "id": "e6f8bffa-dae4-4b9f-9dcf-a7d0d8c58f88",
        "outputId": "d8379b8f-38ab-407b-d5d3-821c7d3ec5e4",
        "tags": []
      },
      "outputs": [
        {
          "name": "stdout",
          "output_type": "stream",
          "text": [
            "The training accuracy for the third model (X_small and y_small) is: 0.9565217391304348\n",
            "The validation accuracy for the third model (X_small and y_small) is: 0.8043478260869565\n"
          ]
        }
      ],
      "source": [
        "# Calculate training and validation accuracy for model 3 (X_small and y_small)\n",
        "score3_training = accuracy_score(y_train_3, train_predictions_3)\n",
        "score3_validation = accuracy_score(y_test_3, predictions_3)\n",
        "\n",
        "# Output accuracy scores for model 3\n",
        "print(\"The training accuracy for the third model (X_small and y_small) is: \" + str(score3_training))\n",
        "print(\"The validation accuracy for the third model (X_small and y_small) is: \" + str(score3_validation))\n"
      ]
    },
    {
      "cell_type": "markdown",
      "id": "352106a3",
      "metadata": {
        "id": "352106a3"
      },
      "source": [
        "### Step 5: Visualize Results (4 marks)\n",
        "\n",
        "1. Create a pandas DataFrame `results` with columns: Data size, training accuracy, validation accuracy\n",
        "2. Add the data size, training and validation accuracy for each dataset to the `results` DataFrame\n",
        "3. Print `results`"
      ]
    },
    {
      "cell_type": "code",
      "execution_count": null,
      "id": "be4b5c0a",
      "metadata": {
        "colab": {
          "base_uri": "https://localhost:8080/"
        },
        "id": "be4b5c0a",
        "outputId": "3ed66190-f603-4c88-c086-5a11f2fd9c4e",
        "tags": []
      },
      "outputs": [
        {
          "name": "stdout",
          "output_type": "stream",
          "text": [
            "   Data Size  Training Accuracy  Validation Accuracy\n",
            "0   262200.0           0.926902             0.936957\n",
            "1     9200.0           0.614946             0.593478\n",
            "2    13110.0           0.956522             0.804348\n"
          ]
        }
      ],
      "source": [
        "# Create Dataframe with column headers\n",
        "col_names = ['Data Size', 'Training Accuracy', 'Validation Accuracy']\n",
        "results = pd.DataFrame(columns = col_names)\n",
        "\n",
        "# Create individual tuples of data to be inserted into results Dataframe\n",
        "model_result_1 = [X.size, score1_training, score1_validation]\n",
        "model_result_2 = [X_first2.size, score2_training, score2_validation]\n",
        "model_result_3 = [X_small.size, score3_training, score3_validation]\n",
        "\n",
        "# Append tuples into Dataframe\n",
        "results.loc[len(results)] = model_result_1\n",
        "results.loc[len(results)] = model_result_2\n",
        "results.loc[len(results)] = model_result_3\n",
        "\n",
        "# Print results\n",
        "print(results)"
      ]
    },
    {
      "cell_type": "markdown",
      "id": "d4427d4f",
      "metadata": {
        "id": "d4427d4f"
      },
      "source": [
        "### Questions (4 marks)\n",
        "1. How do the training and validation accuracy change depending on the amount of data used? Explain with values.\n",
        "2. In this case, what do a false positive and a false negative represent? Which one is worse?\n",
        "\n",
        "Answers:\n",
        "1. When the original dataset was used, there was a training accuracy of 0.928 and a validation accuracy of 0.936. When the smaller dataset (5%) was used, the training accuracy increased slightly to 0.957 while the validation accuracy dropped to 0.804. This decrease in validation accuracy makes sense. Since the 5% model was trained with less data, it is less likely to correctly classify variations in the data. When the dataset was truncated so that only the first 2 attributes in X were used to train the model, both the training and validation accuracies plummetted to 0.615 and 0.593, respectively. This makes sense since it is likely we are cutting out very useful attributes by removing most of the dataset.\n",
        "\n",
        "2. In the case of this dataset (identifying spam), a false positive represents a non-spam (important) email being incorrectly classified as spam. A false negative represents a spam email being incorrectly classified as a non-spam (important) email. The first case (false positive) is worse in a working scenario. In cases where a false positive has occured, important emails that should be delivered to an inbox are sent to junk mail or blocked completely. This could result in important information not being communicated. However, in cases where the less serious scenario (false negative) has occured, a single junk email will be delivered to an inbox. Most issues that could arise from this junk email being allowed into an inbox can be avoided with proper employee training.  \n",
        "\n"
      ]
    },
    {
      "cell_type": "markdown",
      "id": "7559517a",
      "metadata": {
        "id": "7559517a"
      },
      "source": [
        "### Process Description (4 marks)\n",
        "Please describe the process you used to create your code. Cite any websites or generative AI tools used. You can use the following questions as guidance:\n",
        "1. Where did you source your code?\n",
        "2. In what order did you complete the steps?\n",
        "3. Did you have any challenges? If yes, what were they? If not, what helped you to be successful?\n"
      ]
    },
    {
      "cell_type": "markdown",
      "id": "59fe687f",
      "metadata": {
        "id": "59fe687f"
      },
      "source": [
        "Answers:\n",
        "\n",
        "1. All code was written by me. Code was sourced by looking at work that was completed during older lab sessions. Official Numpy, Sklearn, and Pandas documentation sources were used in conjunction with ChatGPT to clarify how to use functions that were unknown to me.\n",
        "2. The steps were completed as follows;\n",
        "     - First, the correct modules were imported to use sklearn (logisticRegression, metrics, etc.).\n",
        "     - Second, the dataset was loaded in and processed to ensure that there are no null values.\n",
        "     - Third, a (5%) subsection of the dataset was created, along with another dataset containing only the first 2 attributes of X, and the final training and testing datasets were created.\n",
        "     - Fourth, the models were fit using the training data and predictions were made using the training and testing data.\n",
        "     - Fifth, accuracy scores were calculated for training and validation datasets.\n",
        "     - Sixth, results were compiled into a DataFrame and displayed.\n",
        "\n",
        "3. The challenge that I had with this part of the assignment was getting used to using the sklearn functions 'train_test_split', 'LogisticRegression', and 'accuracy_score'. I was able to reference jupyter notebooks from our previous lab sessions to help with some of the processes. Where we hadn't gone through topics in previous labs, I found that referencing the official documentation was the most useful in getting through the assignment."
      ]
    },
    {
      "cell_type": "markdown",
      "id": "fb4c78a8",
      "metadata": {
        "id": "fb4c78a8"
      },
      "source": [
        "## Part 2: Regression (10.5 marks total)\n",
        "\n",
        "For this section, we will be evaluating concrete compressive strength of different concrete samples, based on age and ingredients. You will need to repeat the steps 1-4 from Part 1 for this analysis."
      ]
    },
    {
      "cell_type": "markdown",
      "id": "b2ba83c5",
      "metadata": {
        "id": "b2ba83c5"
      },
      "source": [
        "### Step 1: Data Input (1 mark)\n",
        "\n",
        "The data used for this task can be downloaded using the yellowbrick library:\n",
        "https://www.scikit-yb.org/en/latest/api/datasets/concrete.html\n",
        "\n",
        "Use the yellowbrick function `load_concrete()` to load the spam dataset into the feature matrix `X` and target vector `y`.\n",
        "\n",
        "Print the size and type of `X` and `y`."
      ]
    },
    {
      "cell_type": "code",
      "execution_count": null,
      "id": "6ff2e34f",
      "metadata": {
        "colab": {
          "base_uri": "https://localhost:8080/"
        },
        "id": "6ff2e34f",
        "outputId": "34a11448-a48a-48b2-fc53-958dd36c24f9",
        "tags": []
      },
      "outputs": [
        {
          "name": "stdout",
          "output_type": "stream",
          "text": [
            "\n",
            "The size of X is: 8240\n",
            "\n",
            "The shape of X is: (1030, 8)\n",
            "\n",
            "The type of X is: <class 'pandas.core.frame.DataFrame'>\n",
            "\n",
            "The type of X's attributes are:\n",
            "cement    float64\n",
            "slag      float64\n",
            "ash       float64\n",
            "water     float64\n",
            "splast    float64\n",
            "coarse    float64\n",
            "fine      float64\n",
            "age         int64\n",
            "dtype: object\n",
            "\n",
            "The size of y is: 1030\n",
            "\n",
            "The shape of y is: (1030,)\n",
            "\n",
            "The type of y is: float64\n"
          ]
        }
      ],
      "source": [
        "# Import spam dataset from yellowbrick library\n",
        "X, y = YBD.loaders.load_concrete(data_home=None, return_dataset=False)\n",
        "\n",
        "# Print size, shape, and type of X\n",
        "print(\"\\nThe size of X is: \" + str(X.size))\n",
        "print(\"\\nThe shape of X is: \" + str(X.shape))\n",
        "print(\"\\nThe type of X is: \" + str(type(X)))\n",
        "print(\"\\nThe type of X's attributes are:\")\n",
        "print(str(X.dtypes))   # This would be used if we want to see all the types for each column in the dataframe X\n",
        "\n",
        "# Print size, shape, and type of y\n",
        "print(\"\\nThe size of y is: \" + str(y.size))\n",
        "print(\"\\nThe shape of y is: \" + str(y.shape))\n",
        "print(\"\\nThe type of y is: \" + str(y.dtypes))"
      ]
    },
    {
      "cell_type": "markdown",
      "id": "c5294cfa",
      "metadata": {
        "id": "c5294cfa"
      },
      "source": [
        "### Step 2: Data Processing (0.5 marks)\n",
        "\n",
        "Check to see if there are any missing values in the dataset. If necessary, select an appropriate method to fill-in the missing values."
      ]
    },
    {
      "cell_type": "code",
      "execution_count": null,
      "id": "693c5fa3",
      "metadata": {
        "colab": {
          "base_uri": "https://localhost:8080/"
        },
        "id": "693c5fa3",
        "outputId": "202f211b-3c00-4862-82ad-8aa914ed5dbe",
        "tags": []
      },
      "outputs": [
        {
          "name": "stdout",
          "output_type": "stream",
          "text": [
            "\n",
            "The following is the count of values that are NA from the columns of X:\n",
            "\n",
            "cement    0\n",
            "slag      0\n",
            "ash       0\n",
            "water     0\n",
            "splast    0\n",
            "coarse    0\n",
            "fine      0\n",
            "age       0\n",
            "dtype: int64\n",
            "\n",
            "The following is the count of values that are NA from y:\n",
            "\n",
            "0\n",
            "\n",
            "Thankfully there are no missing values in the dataset!\n"
          ]
        }
      ],
      "source": [
        "# Check if there are any missing values and fill them in if necessary\n",
        "print(\"\\nThe following is the count of values that are NA from the columns of X:\\n\")\n",
        "print(X.isna().sum())   # There are no missing values from X\n",
        "\n",
        "print(\"\\nThe following is the count of values that are NA from y:\\n\")\n",
        "print(y.isna().sum())   # There are no missing values from y\n",
        "\n",
        "print(\"\\nThankfully there are no missing values in the dataset!\")"
      ]
    },
    {
      "cell_type": "markdown",
      "id": "1bc60489",
      "metadata": {
        "id": "1bc60489"
      },
      "source": [
        "### Step 3: Implement Machine Learning Model (1 mark)\n",
        "\n",
        "1. Import `LinearRegression` from sklearn\n",
        "2. Instantiate model `LinearRegression()`.\n",
        "3. Implement the machine learning model with `X` and `y`"
      ]
    },
    {
      "cell_type": "code",
      "execution_count": null,
      "id": "b5041945",
      "metadata": {
        "id": "b5041945",
        "tags": []
      },
      "outputs": [],
      "source": [
        "# Import LinearRegression\n",
        "from sklearn.linear_model import LinearRegression\n",
        "\n",
        "# Instantiate a model\n",
        "lin_model = LinearRegression()\n",
        "\n",
        "# Create training and testing datasets\n",
        "X_train, X_test, y_train, y_test = sklearn.model_selection.train_test_split(X, y, test_size = 0.2, random_state = 0)\n",
        "\n",
        "# Train the model using the training datasets\n",
        "lin_model.fit(X_train, y_train)\n",
        "\n",
        "# Run the model to make test predictions\n",
        "predictions = lin_model.predict(X_test)\n",
        "train_predictions = lin_model.predict(X_train)   # Needed for next accuracy component of assignment\n",
        "\n"
      ]
    },
    {
      "cell_type": "markdown",
      "id": "1de28482",
      "metadata": {
        "id": "1de28482"
      },
      "source": [
        "### Step 4: Validate Model (1 mark)\n",
        "\n",
        "Calculate the training and validation accuracy using mean squared error and R2 score."
      ]
    },
    {
      "cell_type": "code",
      "execution_count": null,
      "id": "970c038b",
      "metadata": {
        "colab": {
          "base_uri": "https://localhost:8080/"
        },
        "id": "970c038b",
        "outputId": "3339385b-c677-419c-bfc8-2d542cb54a76",
        "tags": []
      },
      "outputs": [
        {
          "name": "stdout",
          "output_type": "stream",
          "text": [
            "\n",
            "The training accuracy MSE is 110.34550122934108 and R2 is 0.6090710418548884\n",
            "\n",
            "The validation accuracy MSE is 95.63533482690434 and R2 is 0.636898110341124\n"
          ]
        }
      ],
      "source": [
        "# import accuracy metrics\n",
        "from sklearn.metrics import mean_squared_error\n",
        "from sklearn.metrics import r2_score\n",
        "\n",
        "# Calculate training accuracy with MSE and R2\n",
        "MSE_training = mean_squared_error(y_train, train_predictions)\n",
        "R2_training = r2_score(y_train, train_predictions)\n",
        "\n",
        "# Calculate validation accuracy with MSE and R2\n",
        "MSE_validation = mean_squared_error(y_test, predictions)\n",
        "R2_validation = r2_score(y_test, predictions)\n",
        "\n",
        "# Output accuracy results\n",
        "print(\"\\nThe training accuracy MSE is \" + str(MSE_training) + \" and R2 is \" + str(R2_training))\n",
        "print(\"\\nThe validation accuracy MSE is \" + str(MSE_validation) + \" and R2 is \" + str(R2_validation))"
      ]
    },
    {
      "cell_type": "markdown",
      "id": "54aa7795",
      "metadata": {
        "id": "54aa7795"
      },
      "source": [
        "### Step 5: Visualize Results (1 mark)\n",
        "1. Create a pandas DataFrame `results` with columns: Training accuracy and Validation accuracy, and index: MSE and R2 score\n",
        "2. Add the accuracy results to the `results` DataFrame\n",
        "3. Print `results`"
      ]
    },
    {
      "cell_type": "code",
      "execution_count": null,
      "id": "88d223f3",
      "metadata": {
        "colab": {
          "base_uri": "https://localhost:8080/"
        },
        "id": "88d223f3",
        "outputId": "4c37b3ee-a200-458d-901c-2a76f37f7d1e"
      },
      "outputs": [
        {
          "name": "stdout",
          "output_type": "stream",
          "text": [
            "          Training Accuracy Validation Accuracy\n",
            "MSE Score        110.345501           95.635335\n",
            "R2 Score           0.609071            0.636898\n"
          ]
        }
      ],
      "source": [
        "# Create column and index headers\n",
        "col_names = ['Training Accuracy', 'Validation Accuracy']\n",
        "index_names = ['MSE Score', 'R2 Score']\n",
        "\n",
        "# Create the DataFrame with the headers\n",
        "results = pd.DataFrame(columns = col_names, index = index_names)\n",
        "\n",
        "# Add the accuracy results into the results DataFrame and print results\n",
        "results.iloc[0,0] = MSE_training\n",
        "results.iloc[0,1] = MSE_validation\n",
        "results.iloc[1,0] = R2_training\n",
        "results.iloc[1,1] = R2_validation\n",
        "\n",
        "print(results)\n"
      ]
    },
    {
      "cell_type": "markdown",
      "id": "70a42bda",
      "metadata": {
        "id": "70a42bda"
      },
      "source": [
        "### Questions (2 marks)\n",
        "1. Did using a linear model produce good results for this dataset? Why or why not?\n",
        "\n",
        "Answer:\n",
        "\n",
        "1. Using a linear model produced less than ideal results. The R2 scores were 0.609 and 0.637 for the training and validation accuracies, respectively. This is low, since we would hope to be able to achieve something in the high 90's range instead of the low 60's. This suggests that this data might be better modelled using non-linear methods."
      ]
    },
    {
      "cell_type": "markdown",
      "id": "2ca0ff2f",
      "metadata": {
        "id": "2ca0ff2f"
      },
      "source": [
        "### Process Description (4 marks)\n",
        "Please describe the process you used to create your code. Cite any websites or generative AI tools used. You can use the following questions as guidance:\n",
        "1. Where did you source your code?\n",
        "2. In what order did you complete the steps?\n",
        "3. Did you have any challenges? If yes, what were they? If not, what helped you to be successful?"
      ]
    },
    {
      "cell_type": "markdown",
      "id": "dfdb0880",
      "metadata": {
        "id": "dfdb0880"
      },
      "source": [
        "Answers:\n",
        "\n",
        "1. All code was written by me. Code was sourced by looking at work that was completed during older lab sessions. Official Matplotlib, Numpy, Sklearn, and Pandas documentation sources were used in conjunction with ChatGPT to clarify how to use functions that were unknown to me.\n",
        "2. The steps were completed as follows;\n",
        "     - First, the dataset was loaded in and processed to ensure that there are no null values.\n",
        "     - Second, the LinearRegression model was imported from sklearn and an instance was instantiated with default parameters. MSE and R2 functions were imported.\n",
        "     - Third, the training and testing datasets were created and the LinearRegression model was fit to the training data.\n",
        "     - Fourth, predictions were made using the training and testing data.\n",
        "     - Fifth, MSE and R2 accuracy scores were calculated for training and validation datasets.\n",
        "     - Sixth, results were compiled into a DataFrame and displayed.\n",
        "\n",
        "3. The challenge that I had with this part of the assignment was similar to that of that first part; getting used to using the sklearn functions 'LinearRegression', 'mean_squared_error', and 'r2_score'. I was able to reference jupyter notebooks from our previous lab sessions to help with some of the processes."
      ]
    },
    {
      "cell_type": "markdown",
      "id": "e72ac3eb",
      "metadata": {
        "id": "e72ac3eb"
      },
      "source": [
        "## Part 3: Observations/Interpretation (3 marks)\n",
        "\n",
        "Describe any pattern you see in the results. Relate your findings to what we discussed during lectures. Include data to justify your findings.\n",
        "\n",
        "\n",
        "I noticed that limiting the number of X parameters that were used during training in part 1 of the assignment seemed to have a larger effect on results than reducing the data size to 5% while keeping all X parameters. When the size was reduced by 95% but all parameters were considered, the training accuracy more or less stayed the same while the testing accuracy dropped by about 13%. When compared to the model that only used 2 X parameters, the training and validation dropped over 30%. This is similar to what was discussed in class. This suggests that the amount of parameters describing X can have more of an effect on a model than the scale of the data used."
      ]
    },
    {
      "cell_type": "markdown",
      "id": "40b84eed",
      "metadata": {
        "id": "40b84eed"
      },
      "source": [
        "## Part 4: Reflection (2 marks)\n",
        "Include a sentence or two about:\n",
        "- what you liked or disliked,\n",
        "- found interesting, confusing, challangeing, motivating\n",
        "while working on this assignment.\n",
        "\n",
        "\n",
        "I liked how this lab allowed me to go through and understand the general steps required to implement linear machine learning models. The bonus section really helped me understand the processes since I repeated it for 12 tests (6 ridge and 6 lasso). What I found that was confusing was which accuracy measure I was supposed to use for part 1. I used 'accuracy_score' but some other students used 'cross_validation' which produced similar, but different results."
      ]
    },
    {
      "cell_type": "markdown",
      "id": "db951b3a",
      "metadata": {
        "id": "db951b3a"
      },
      "source": [
        "## Part 5: Bonus Question (4 marks)\n",
        "\n",
        "Repeat Part 2 with Ridge and Lasso regression to see if you can improve the accuracy results. Which method and what value of alpha gave you the best R^2 score? Is this score \"good enough\"? Explain why or why not.\n",
        "\n",
        "**Remember**: Only test values of alpha from 0.001 to 100 along the logorithmic scale."
      ]
    },
    {
      "cell_type": "code",
      "execution_count": null,
      "id": "47623d44",
      "metadata": {
        "id": "47623d44"
      },
      "outputs": [],
      "source": [
        "# Import required functions from sklearn\n",
        "from sklearn.linear_model import Ridge, Lasso              # Ridge and Lasso models\n",
        "from sklearn.model_selection import train_test_split       # Function needed for splitting datasets\n",
        "from sklearn.metrics import mean_squared_error, r2_score   # Functions needed for validation metrics\n",
        "\n",
        "# Import concrete dataset from yellowbrick library\n",
        "X, y = YBD.loaders.load_concrete(data_home=None, return_dataset=False)\n",
        "\n",
        "# Process data to ensure there are no missing values. If there are, these values need to be filled in or dealt with.\n",
        "    # This has already been completed during Part 2 of this assignment or it would be completed here\n",
        "\n",
        "# Create the training and testing datasets\n",
        "X_train, X_test, y_train, y_test = train_test_split(X, y, test_size = 0.2, random_state = 0)\n"
      ]
    },
    {
      "cell_type": "code",
      "execution_count": null,
      "id": "9c6994d3-f22e-4f81-8d5b-704cc5ea875a",
      "metadata": {
        "id": "9c6994d3-f22e-4f81-8d5b-704cc5ea875a",
        "tags": []
      },
      "outputs": [],
      "source": [
        "# Instantiate different Ridge models that are to be used\n",
        "ridge_model_1 = Ridge(alpha = 0.001, )\n",
        "ridge_model_2 = Ridge(alpha = 0.01)\n",
        "ridge_model_3 = Ridge(alpha = 0.1)\n",
        "ridge_model_4 = Ridge(alpha = 1)\n",
        "ridge_model_5 = Ridge(alpha = 10)\n",
        "ridge_model_6 = Ridge(alpha = 100)\n",
        "\n",
        "# Instantiate different Lasso models that are to be used\n",
        "lasso_model_1 = Lasso(alpha = 0.001)\n",
        "lasso_model_2 = Lasso(alpha = 0.01)\n",
        "lasso_model_3 = Lasso(alpha = 0.1)\n",
        "lasso_model_4 = Lasso(alpha = 1)\n",
        "lasso_model_5 = Lasso(alpha = 10)\n",
        "lasso_model_6 = Lasso(alpha = 100)\n"
      ]
    },
    {
      "cell_type": "code",
      "execution_count": null,
      "id": "5d2488f0-6a65-40a4-b722-b10447243086",
      "metadata": {
        "id": "5d2488f0-6a65-40a4-b722-b10447243086",
        "tags": []
      },
      "outputs": [],
      "source": [
        "# Fit the models using the training data\n",
        "ridge_model_1.fit(X_train, y_train)\n",
        "ridge_model_2.fit(X_train, y_train)\n",
        "ridge_model_3.fit(X_train, y_train)\n",
        "ridge_model_4.fit(X_train, y_train)\n",
        "ridge_model_5.fit(X_train, y_train)\n",
        "ridge_model_6.fit(X_train, y_train)\n",
        "lasso_model_1.fit(X_train, y_train)\n",
        "lasso_model_2.fit(X_train, y_train)\n",
        "lasso_model_3.fit(X_train, y_train)\n",
        "lasso_model_4.fit(X_train, y_train)\n",
        "lasso_model_5.fit(X_train, y_train)\n",
        "lasso_model_6.fit(X_train, y_train)\n",
        "\n",
        "# Make training predictions using different models (used later for training accuracy)\n",
        "ridge_1_train_predictions = ridge_model_1.predict(X_train)\n",
        "ridge_2_train_predictions = ridge_model_2.predict(X_train)\n",
        "ridge_3_train_predictions = ridge_model_3.predict(X_train)\n",
        "ridge_4_train_predictions = ridge_model_4.predict(X_train)\n",
        "ridge_5_train_predictions = ridge_model_5.predict(X_train)\n",
        "ridge_6_train_predictions = ridge_model_6.predict(X_train)\n",
        "lasso_1_train_predictions = lasso_model_1.predict(X_train)\n",
        "lasso_2_train_predictions = lasso_model_2.predict(X_train)\n",
        "lasso_3_train_predictions = lasso_model_3.predict(X_train)\n",
        "lasso_4_train_predictions = lasso_model_4.predict(X_train)\n",
        "lasso_5_train_predictions = lasso_model_5.predict(X_train)\n",
        "lasso_6_train_predictions = lasso_model_6.predict(X_train)\n",
        "\n",
        "# Make testing predictions using different models (used later for testing accuracy)\n",
        "ridge_1_test_predictions = ridge_model_1.predict(X_test)\n",
        "ridge_2_test_predictions = ridge_model_2.predict(X_test)\n",
        "ridge_3_test_predictions = ridge_model_3.predict(X_test)\n",
        "ridge_4_test_predictions = ridge_model_4.predict(X_test)\n",
        "ridge_5_test_predictions = ridge_model_5.predict(X_test)\n",
        "ridge_6_test_predictions = ridge_model_6.predict(X_test)\n",
        "lasso_1_test_predictions = lasso_model_1.predict(X_test)\n",
        "lasso_2_test_predictions = lasso_model_2.predict(X_test)\n",
        "lasso_3_test_predictions = lasso_model_3.predict(X_test)\n",
        "lasso_4_test_predictions = lasso_model_4.predict(X_test)\n",
        "lasso_5_test_predictions = lasso_model_5.predict(X_test)\n",
        "lasso_6_test_predictions = lasso_model_6.predict(X_test)\n"
      ]
    },
    {
      "cell_type": "code",
      "execution_count": null,
      "id": "822af1bf-a01c-494d-b628-48c454a5eb1a",
      "metadata": {
        "id": "822af1bf-a01c-494d-b628-48c454a5eb1a",
        "tags": []
      },
      "outputs": [],
      "source": [
        "# Calculate the training MSE values for all models\n",
        "ridge_1_T_MSE = mean_squared_error(y_train, ridge_1_train_predictions)\n",
        "ridge_2_T_MSE = mean_squared_error(y_train, ridge_2_train_predictions)\n",
        "ridge_3_T_MSE = mean_squared_error(y_train, ridge_3_train_predictions)\n",
        "ridge_4_T_MSE = mean_squared_error(y_train, ridge_4_train_predictions)\n",
        "ridge_5_T_MSE = mean_squared_error(y_train, ridge_5_train_predictions)\n",
        "ridge_6_T_MSE = mean_squared_error(y_train, ridge_6_train_predictions)\n",
        "lasso_1_T_MSE = mean_squared_error(y_train, lasso_1_train_predictions)\n",
        "lasso_2_T_MSE = mean_squared_error(y_train, lasso_2_train_predictions)\n",
        "lasso_3_T_MSE = mean_squared_error(y_train, lasso_3_train_predictions)\n",
        "lasso_4_T_MSE = mean_squared_error(y_train, lasso_4_train_predictions)\n",
        "lasso_5_T_MSE = mean_squared_error(y_train, lasso_5_train_predictions)\n",
        "lasso_6_T_MSE = mean_squared_error(y_train, lasso_6_train_predictions)\n",
        "\n",
        "T_MSE = [ridge_1_T_MSE, ridge_2_T_MSE, ridge_3_T_MSE, ridge_4_T_MSE, ridge_5_T_MSE, ridge_6_T_MSE, lasso_1_T_MSE, lasso_2_T_MSE, lasso_3_T_MSE, lasso_4_T_MSE, lasso_5_T_MSE, lasso_6_T_MSE]\n",
        "\n",
        "# Calculate the testing (validation) MSE values for all models\n",
        "ridge_1_V_MSE = mean_squared_error(y_test, ridge_1_test_predictions)\n",
        "ridge_2_V_MSE = mean_squared_error(y_test, ridge_2_test_predictions)\n",
        "ridge_3_V_MSE = mean_squared_error(y_test, ridge_3_test_predictions)\n",
        "ridge_4_V_MSE = mean_squared_error(y_test, ridge_4_test_predictions)\n",
        "ridge_5_V_MSE = mean_squared_error(y_test, ridge_5_test_predictions)\n",
        "ridge_6_V_MSE = mean_squared_error(y_test, ridge_6_test_predictions)\n",
        "lasso_1_V_MSE = mean_squared_error(y_test, lasso_1_test_predictions)\n",
        "lasso_2_V_MSE = mean_squared_error(y_test, lasso_2_test_predictions)\n",
        "lasso_3_V_MSE = mean_squared_error(y_test, lasso_3_test_predictions)\n",
        "lasso_4_V_MSE = mean_squared_error(y_test, lasso_4_test_predictions)\n",
        "lasso_5_V_MSE = mean_squared_error(y_test, lasso_5_test_predictions)\n",
        "lasso_6_V_MSE = mean_squared_error(y_test, lasso_6_test_predictions)\n",
        "\n",
        "V_MSE = [ridge_1_V_MSE, ridge_2_V_MSE, ridge_3_V_MSE, ridge_4_V_MSE, ridge_5_V_MSE, ridge_6_V_MSE, lasso_1_V_MSE, lasso_2_V_MSE, lasso_3_V_MSE, lasso_4_V_MSE, lasso_5_V_MSE, lasso_6_V_MSE]\n"
      ]
    },
    {
      "cell_type": "code",
      "execution_count": null,
      "id": "7374c9d2-ef1c-462c-8638-7de5a1418a6a",
      "metadata": {
        "id": "7374c9d2-ef1c-462c-8638-7de5a1418a6a",
        "tags": []
      },
      "outputs": [],
      "source": [
        "# Calculate the training R2 values for all models\n",
        "ridge_1_T_R2 = r2_score(y_train, ridge_1_train_predictions)\n",
        "ridge_2_T_R2 = r2_score(y_train, ridge_2_train_predictions)\n",
        "ridge_3_T_R2 = r2_score(y_train, ridge_3_train_predictions)\n",
        "ridge_4_T_R2 = r2_score(y_train, ridge_4_train_predictions)\n",
        "ridge_5_T_R2 = r2_score(y_train, ridge_5_train_predictions)\n",
        "ridge_6_T_R2 = r2_score(y_train, ridge_6_train_predictions)\n",
        "lasso_1_T_R2 = r2_score(y_train, lasso_1_train_predictions)\n",
        "lasso_2_T_R2 = r2_score(y_train, lasso_2_train_predictions)\n",
        "lasso_3_T_R2 = r2_score(y_train, lasso_3_train_predictions)\n",
        "lasso_4_T_R2 = r2_score(y_train, lasso_4_train_predictions)\n",
        "lasso_5_T_R2 = r2_score(y_train, lasso_5_train_predictions)\n",
        "lasso_6_T_R2 = r2_score(y_train, lasso_6_train_predictions)\n",
        "\n",
        "T_R2 = [ridge_1_T_R2, ridge_2_T_R2, ridge_3_T_R2, ridge_4_T_R2, ridge_5_T_R2, ridge_6_T_R2, lasso_1_T_R2, lasso_2_T_R2, lasso_3_T_R2, lasso_4_T_R2, lasso_5_T_R2, lasso_6_T_R2]\n",
        "\n",
        "# Calculate the testing (validation) R2 values for all models\n",
        "ridge_1_V_R2 = r2_score(y_test, ridge_1_test_predictions)\n",
        "ridge_2_V_R2 = r2_score(y_test, ridge_2_test_predictions)\n",
        "ridge_3_V_R2 = r2_score(y_test, ridge_3_test_predictions)\n",
        "ridge_4_V_R2 = r2_score(y_test, ridge_4_test_predictions)\n",
        "ridge_5_V_R2 = r2_score(y_test, ridge_5_test_predictions)\n",
        "ridge_6_V_R2 = r2_score(y_test, ridge_6_test_predictions)\n",
        "lasso_1_V_R2 = r2_score(y_test, lasso_1_test_predictions)\n",
        "lasso_2_V_R2 = r2_score(y_test, lasso_2_test_predictions)\n",
        "lasso_3_V_R2 = r2_score(y_test, lasso_3_test_predictions)\n",
        "lasso_4_V_R2 = r2_score(y_test, lasso_4_test_predictions)\n",
        "lasso_5_V_R2 = r2_score(y_test, lasso_5_test_predictions)\n",
        "lasso_6_V_R2 = r2_score(y_test, lasso_6_test_predictions)\n",
        "\n",
        "V_R2 = [ridge_1_V_R2, ridge_2_V_R2, ridge_3_V_R2, ridge_4_V_R2, ridge_5_V_R2, ridge_6_V_R2, lasso_1_V_R2, lasso_2_V_R2, lasso_3_V_R2, lasso_4_V_R2, lasso_5_V_R2, lasso_6_V_R2]\n"
      ]
    },
    {
      "cell_type": "code",
      "execution_count": null,
      "id": "8533ec83-7864-4227-a655-def008ccae09",
      "metadata": {
        "colab": {
          "base_uri": "https://localhost:8080/"
        },
        "id": "8533ec83-7864-4227-a655-def008ccae09",
        "outputId": "5d516f9f-2fb6-440c-be88-8a876f514479",
        "tags": []
      },
      "outputs": [
        {
          "name": "stdout",
          "output_type": "stream",
          "text": [
            "                      Training MSE Accuracy Validation MSE Accuracy  \\\n",
            "Ridge (Alpha = 0.001)            110.345501               95.635335   \n",
            "Ridge (Alpha = 0.01)             110.345501               95.635334   \n",
            "Ridge (Alpha = 0.1)              110.345501               95.635324   \n",
            "Ridge (Alpha = 1)                110.345501               95.635231   \n",
            "Ridge (Alpha = 10)               110.345502               95.634301   \n",
            "Ridge (Alpha = 100)              110.345597               95.625173   \n",
            "Lasso (Alpha = 0.001)            110.345501               95.634971   \n",
            "Lasso (Alpha = 0.01)             110.345507               95.631698   \n",
            "Lasso (Alpha = 0.1)               110.34612               95.599545   \n",
            "Lasso (Alpha = 1)                 110.40734                95.33585   \n",
            "Lasso (Alpha = 10)               112.093055               95.114791   \n",
            "Lasso (Alpha = 100)              151.368492              126.142568   \n",
            "\n",
            "                      Training R2 Accuracy Validation R2 Accuracy  \n",
            "Ridge (Alpha = 0.001)             0.609071               0.636898  \n",
            "Ridge (Alpha = 0.01)              0.609071               0.636898  \n",
            "Ridge (Alpha = 0.1)               0.609071               0.636898  \n",
            "Ridge (Alpha = 1)                 0.609071               0.636899  \n",
            "Ridge (Alpha = 10)                0.609071               0.636902  \n",
            "Ridge (Alpha = 100)               0.609071               0.636937  \n",
            "Lasso (Alpha = 0.001)             0.609071               0.636899  \n",
            "Lasso (Alpha = 0.01)              0.609071               0.636912  \n",
            "Lasso (Alpha = 0.1)               0.609069               0.637034  \n",
            "Lasso (Alpha = 1)                 0.608852               0.638035  \n",
            "Lasso (Alpha = 10)                 0.60288               0.638874  \n",
            "Lasso (Alpha = 100)               0.463736                0.52107  \n"
          ]
        }
      ],
      "source": [
        "# Create column and index headers\n",
        "col_names = ['Training MSE Accuracy', 'Validation MSE Accuracy', 'Training R2 Accuracy', 'Validation R2 Accuracy']\n",
        "index_names = ['Ridge (Alpha = 0.001)', 'Ridge (Alpha = 0.01)', 'Ridge (Alpha = 0.1)', 'Ridge (Alpha = 1)', 'Ridge (Alpha = 10)', 'Ridge (Alpha = 100)', 'Lasso (Alpha = 0.001)', 'Lasso (Alpha = 0.01)', 'Lasso (Alpha = 0.1)', 'Lasso (Alpha = 1)', 'Lasso (Alpha = 10)', 'Lasso (Alpha = 100)']\n",
        "\n",
        "# Create the DataFrame with the headers\n",
        "results = pd.DataFrame(columns = col_names, index = index_names)\n",
        "\n",
        "# Add the accuracy results into the results DataFrame and print results\n",
        "for i in range(0,12):\n",
        "    results.iloc[i,0] = T_MSE[i]\n",
        "    results.iloc[i,1] = V_MSE[i]\n",
        "    results.iloc[i,2] = T_R2[i]\n",
        "    results.iloc[i,3] = V_R2[i]\n",
        "\n",
        "\n",
        "print(results)\n"
      ]
    },
    {
      "cell_type": "code",
      "execution_count": null,
      "id": "517e45ad-0617-487a-a15d-8adf64a13b6c",
      "metadata": {
        "colab": {
          "base_uri": "https://localhost:8080/",
          "height": 1000
        },
        "id": "517e45ad-0617-487a-a15d-8adf64a13b6c",
        "outputId": "01861f29-4f0e-4846-ece5-49fb2b398fb6",
        "tags": []
      },
      "outputs": [
        {
          "data": {
            "text/plain": [
              "Text(0, 0.5, 'R2 Value')"
            ]
          },
          "execution_count": 73,
          "metadata": {},
          "output_type": "execute_result"
        },
        {
          "data": {
            "image/png": "[encoded data removed]",
            "text/plain": [
              "<Figure size 1500x1500 with 4 Axes>"
            ]
          },
          "metadata": {},
          "output_type": "display_data"
        }
      ],
      "source": [
        "# Import matplotlib and initialize figure\n",
        "import matplotlib.pyplot as plt\n",
        "plt.figure(figsize = (15, 15))\n",
        "\n",
        "# Plot training MSE Values for Ridge and Lasso models\n",
        "plt.subplot(2, 2, 1)\n",
        "plt.plot(['0.001', '0.01', '0.1', '1', '10', '100'], T_MSE[0:6], label = 'Ridge', marker = 's')\n",
        "plt.plot(['0.001', '0.01', '0.1', '1', '10', '100'], T_MSE[6:12], label = 'Lasso', marker = 'o')\n",
        "plt.title('Training MSE Validation')\n",
        "plt.legend()\n",
        "plt.xlabel('Regularization (Alpha)')\n",
        "plt.ylabel('MSE Value')\n",
        "\n",
        "# Plot testing MSE Values for Ridge and Lasso models\n",
        "plt.subplot(2, 2, 2)\n",
        "plt.plot(['0.001', '0.01', '0.1', '1', '10', '100'], V_MSE[0:6], label = 'Ridge', marker = 's')\n",
        "plt.plot(['0.001', '0.01', '0.1', '1', '10', '100'], V_MSE[6:12], label = 'Lasso', marker = 'o')\n",
        "plt.title('Testing MSE Validation')\n",
        "plt.legend()\n",
        "plt.xlabel('Regularization (Alpha)')\n",
        "plt.ylabel('MSE Value')\n",
        "\n",
        "# Plot training R2 Values for Ridge and Lasso models\n",
        "plt.subplot(2, 2, 3)\n",
        "plt.plot(['0.001', '0.01', '0.1', '1', '10', '100'], T_R2[0:6], label = 'Ridge', marker = 's')\n",
        "plt.plot(['0.001', '0.01', '0.1', '1', '10', '100'], T_R2[6:12], label = 'Lasso', marker = 'o')\n",
        "plt.title('Training R2 Validation')\n",
        "plt.legend()\n",
        "plt.xlabel('Regularization (Alpha)')\n",
        "plt.ylabel('R2 Value')\n",
        "\n",
        "# Plot testing R2 Values for Ridge and Lasso models\n",
        "plt.subplot(2, 2, 4)\n",
        "plt.plot(['0.001', '0.01', '0.1', '1', '10', '100'], V_R2[0:6], label = 'Ridge', marker = 's')\n",
        "plt.plot(['0.001', '0.01', '0.1', '1', '10', '100'], V_R2[6:12], label = 'Lasso', marker = 'o')\n",
        "plt.title('Testing R2 Validation')\n",
        "plt.legend()\n",
        "plt.xlabel('Regularization (Alpha)')\n",
        "plt.ylabel('R2 Value')"
      ]
    },
    {
      "cell_type": "markdown",
      "id": "1b606236",
      "metadata": {
        "id": "1b606236"
      },
      "source": [
        "Repeat Part 2 with Ridge and Lasso regression to see if you can improve the accuracy results. Which method and what value of alpha gave you the best R^2 score? Is this score \"good enough\"? Explain why or why not.\n",
        "\n",
        "Answers:\n",
        "\n",
        "The original training accuracy in part 2 of the assignment was 0.609071 while the testing accuracy was 0.636898.\n",
        "\n",
        "The highest training Lasso R2 value (0.609071) was achieved when alpha was set to 0.001 or 0.01. The highest testing (validating) Lasso R2 value (0.638874) was achieved when alpha was set to 10. The best Lasso model for training accuracy was the same as the result from part 2 (0.609071) while the best Lasso model for testing accuracy was slightly higher at 0.638874 (compared to the original 0.636898).\n",
        "\n",
        "The highest training Ridge R2 value (0.609071) was achieved when alpha was set to any logarithmic value between 0.001 and 100 (i.e. alpha had no effect). The highest testing (validating) Ridge R2 value (0.636937) was achieved when alpha was set to 100. Changes were very minor however. The best Ridge model for training accuracy was the same as the result from part 2 (0.609071) while the best Ridge model for testing accuracy was slightly higher at 0.636937 (compared to the original 0.636898).\n",
        "\n",
        "While the results were able to be improved slightly through adjusting the alpha parameter using Lasso and Ridge models, the effects are not large enough where any of the models should be considered \"good enough\" in most scenarios. The R2 value should be as high as possible (hopefully above 90%). Most predictive models would not operate properly with an accuracy around 60%.\n",
        "\n",
        "\n",
        "\n"
      ]
    }
  ],
  "metadata": {
    "colab": {
      "provenance": []
    },
    "kernelspec": {
      "display_name": "Python 3 (ipykernel)",
      "language": "python",
      "name": "python3"
    },
    "language_info": {
      "codemirror_mode": {
        "name": "ipython",
        "version": 3
      },
      "file_extension": ".py",
      "mimetype": "text/x-python",
      "name": "python",
      "nbconvert_exporter": "python",
      "pygments_lexer": "ipython3",
      "version": "3.11.5"
    }
  },
  "nbformat": 4,
  "nbformat_minor": 5
}
