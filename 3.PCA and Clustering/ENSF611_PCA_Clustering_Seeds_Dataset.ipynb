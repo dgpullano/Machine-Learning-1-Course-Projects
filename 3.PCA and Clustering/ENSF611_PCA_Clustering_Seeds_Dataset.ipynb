{
  "cells": [
    {
      "cell_type": "markdown",
      "id": "87fee377",
      "metadata": {
        "id": "87fee377"
      },
      "source": [
        "### Name: Dillon Pullano"
      ]
    },
    {
      "cell_type": "markdown",
      "id": "ba7f05d0",
      "metadata": {
        "id": "ba7f05d0"
      },
      "source": [
        "The purpose of this assignment is to practice using PCA and clustering techniques on a given dataset."
      ]
    },
    {
      "cell_type": "code",
      "execution_count": null,
      "id": "be4299ae",
      "metadata": {
        "id": "be4299ae"
      },
      "outputs": [],
      "source": [
        "# Import initial modules:\n",
        "import numpy as np\n",
        "import pandas as pd\n",
        "import matplotlib.pyplot as plt\n",
        "import seaborn as sns"
      ]
    },
    {
      "cell_type": "markdown",
      "id": "3c84e8e3",
      "metadata": {
        "id": "3c84e8e3"
      },
      "source": [
        "## Part 1: Principle Component Analysis (PCA) (18 marks)"
      ]
    },
    {
      "cell_type": "markdown",
      "id": "fe7cfa4f",
      "metadata": {
        "id": "fe7cfa4f"
      },
      "source": [
        "### Step 1. Load data (2 marks)\n",
        "\n",
        "You have been asked by an agricultural company to help them predict the type of wheat based on kernel characteristics. You have been given all the information you need in the seeds_dataset.txt file on D2L. The original dataset can be found [here](https://archive.ics.uci.edu/dataset/236/seeds)\n",
        "\n",
        "The first step is to read in the file using pandas and inspect the first few columns. Note that the data is in a text file, so the separator is different compared to a csv file."
      ]
    },
    {
      "cell_type": "code",
      "execution_count": null,
      "id": "474481f1",
      "metadata": {
        "colab": {
          "base_uri": "https://localhost:8080/",
          "height": 206
        },
        "id": "474481f1",
        "outputId": "bd4f07e3-5634-4555-94e2-ba40461dac64"
      },
      "outputs": [
        {
          "data": {
            "text/html": [
              "\n",
              "  <div id=\"df-539f34b9-9d27-48d4-82bc-3d0fbacc75e0\" class=\"colab-df-container\">\n",
              "    <div>\n",
              "<style scoped>\n",
              "    .dataframe tbody tr th:only-of-type {\n",
              "        vertical-align: middle;\n",
              "    }\n",
              "\n",
              "    .dataframe tbody tr th {\n",
              "        vertical-align: top;\n",
              "    }\n",
              "\n",
              "    .dataframe thead th {\n",
              "        text-align: right;\n",
              "    }\n",
              "</style>\n",
              "<table border=\"1\" class=\"dataframe\">\n",
              "  <thead>\n",
              "    <tr style=\"text-align: right;\">\n",
              "      <th></th>\n",
              "      <th>Area</th>\n",
              "      <th>Perimeter</th>\n",
              "      <th>Compactness</th>\n",
              "      <th>Length</th>\n",
              "      <th>Width</th>\n",
              "      <th>Asymmetry</th>\n",
              "      <th>Groove_Length</th>\n",
              "      <th>Type</th>\n",
              "    </tr>\n",
              "  </thead>\n",
              "  <tbody>\n",
              "    <tr>\n",
              "      <th>0</th>\n",
              "      <td>15.26</td>\n",
              "      <td>14.84</td>\n",
              "      <td>0.8710</td>\n",
              "      <td>5.763</td>\n",
              "      <td>3.312</td>\n",
              "      <td>2.221</td>\n",
              "      <td>5.220</td>\n",
              "      <td>1</td>\n",
              "    </tr>\n",
              "    <tr>\n",
              "      <th>1</th>\n",
              "      <td>14.88</td>\n",
              "      <td>14.57</td>\n",
              "      <td>0.8811</td>\n",
              "      <td>5.554</td>\n",
              "      <td>3.333</td>\n",
              "      <td>1.018</td>\n",
              "      <td>4.956</td>\n",
              "      <td>1</td>\n",
              "    </tr>\n",
              "    <tr>\n",
              "      <th>2</th>\n",
              "      <td>14.29</td>\n",
              "      <td>14.09</td>\n",
              "      <td>0.9050</td>\n",
              "      <td>5.291</td>\n",
              "      <td>3.337</td>\n",
              "      <td>2.699</td>\n",
              "      <td>4.825</td>\n",
              "      <td>1</td>\n",
              "    </tr>\n",
              "    <tr>\n",
              "      <th>3</th>\n",
              "      <td>13.84</td>\n",
              "      <td>13.94</td>\n",
              "      <td>0.8955</td>\n",
              "      <td>5.324</td>\n",
              "      <td>3.379</td>\n",
              "      <td>2.259</td>\n",
              "      <td>4.805</td>\n",
              "      <td>1</td>\n",
              "    </tr>\n",
              "    <tr>\n",
              "      <th>4</th>\n",
              "      <td>16.14</td>\n",
              "      <td>14.99</td>\n",
              "      <td>0.9034</td>\n",
              "      <td>5.658</td>\n",
              "      <td>3.562</td>\n",
              "      <td>1.355</td>\n",
              "      <td>5.175</td>\n",
              "      <td>1</td>\n",
              "    </tr>\n",
              "  </tbody>\n",
              "</table>\n",
              "</div>\n",
              "    <div class=\"colab-df-buttons\">\n",
              "\n",
              "  <div class=\"colab-df-container\">\n",
              "    <button class=\"colab-df-convert\" onclick=\"convertToInteractive('df-539f34b9-9d27-48d4-82bc-3d0fbacc75e0')\"\n",
              "            title=\"Convert this dataframe to an interactive table.\"\n",
              "            style=\"display:none;\">\n",
              "\n",
              "  <svg xmlns=\"http://www.w3.org/2000/svg\" height=\"24px\" viewBox=\"0 -960 960 960\">\n",
              "    <path d=\"M120-120v-720h720v720H120Zm60-500h600v-160H180v160Zm220 220h160v-160H400v160Zm0 220h160v-160H400v160ZM180-400h160v-160H180v160Zm440 0h160v-160H620v160ZM180-180h160v-160H180v160Zm440 0h160v-160H620v160Z\"/>\n",
              "  </svg>\n",
              "    </button>\n",
              "\n",
              "  <style>\n",
              "    .colab-df-container {\n",
              "      display:flex;\n",
              "      gap: 12px;\n",
              "    }\n",
              "\n",
              "    .colab-df-convert {\n",
              "      background-color: #E8F0FE;\n",
              "      border: none;\n",
              "      border-radius: 50%;\n",
              "      cursor: pointer;\n",
              "      display: none;\n",
              "      fill: #1967D2;\n",
              "      height: 32px;\n",
              "      padding: 0 0 0 0;\n",
              "      width: 32px;\n",
              "    }\n",
              "\n",
              "    .colab-df-convert:hover {\n",
              "      background-color: #E2EBFA;\n",
              "      box-shadow: 0px 1px 2px rgba(60, 64, 67, 0.3), 0px 1px 3px 1px rgba(60, 64, 67, 0.15);\n",
              "      fill: #174EA6;\n",
              "    }\n",
              "\n",
              "    .colab-df-buttons div {\n",
              "      margin-bottom: 4px;\n",
              "    }\n",
              "\n",
              "    [theme=dark] .colab-df-convert {\n",
              "      background-color: #3B4455;\n",
              "      fill: #D2E3FC;\n",
              "    }\n",
              "\n",
              "    [theme=dark] .colab-df-convert:hover {\n",
              "      background-color: #434B5C;\n",
              "      box-shadow: 0px 1px 3px 1px rgba(0, 0, 0, 0.15);\n",
              "      filter: drop-shadow(0px 1px 2px rgba(0, 0, 0, 0.3));\n",
              "      fill: #FFFFFF;\n",
              "    }\n",
              "  </style>\n",
              "\n",
              "    <script>\n",
              "      const buttonEl =\n",
              "        document.querySelector('#df-539f34b9-9d27-48d4-82bc-3d0fbacc75e0 button.colab-df-convert');\n",
              "      buttonEl.style.display =\n",
              "        google.colab.kernel.accessAllowed ? 'block' : 'none';\n",
              "\n",
              "      async function convertToInteractive(key) {\n",
              "        const element = document.querySelector('#df-539f34b9-9d27-48d4-82bc-3d0fbacc75e0');\n",
              "        const dataTable =\n",
              "          await google.colab.kernel.invokeFunction('convertToInteractive',\n",
              "                                                    [key], {});\n",
              "        if (!dataTable) return;\n",
              "\n",
              "        const docLinkHtml = 'Like what you see? Visit the ' +\n",
              "          '<a target=\"_blank\" href=https://colab.research.google.com/notebooks/data_table.ipynb>data table notebook</a>'\n",
              "          + ' to learn more about interactive tables.';\n",
              "        element.innerHTML = '';\n",
              "        dataTable['output_type'] = 'display_data';\n",
              "        await google.colab.output.renderOutput(dataTable, element);\n",
              "        const docLink = document.createElement('div');\n",
              "        docLink.innerHTML = docLinkHtml;\n",
              "        element.appendChild(docLink);\n",
              "      }\n",
              "    </script>\n",
              "  </div>\n",
              "\n",
              "\n",
              "<div id=\"df-3ed8fd21-edf5-47eb-ab9c-ed272c22118a\">\n",
              "  <button class=\"colab-df-quickchart\" onclick=\"quickchart('df-3ed8fd21-edf5-47eb-ab9c-ed272c22118a')\"\n",
              "            title=\"Suggest charts\"\n",
              "            style=\"display:none;\">\n",
              "\n",
              "<svg xmlns=\"http://www.w3.org/2000/svg\" height=\"24px\"viewBox=\"0 0 24 24\"\n",
              "     width=\"24px\">\n",
              "    <g>\n",
              "        <path d=\"M19 3H5c-1.1 0-2 .9-2 2v14c0 1.1.9 2 2 2h14c1.1 0 2-.9 2-2V5c0-1.1-.9-2-2-2zM9 17H7v-7h2v7zm4 0h-2V7h2v10zm4 0h-2v-4h2v4z\"/>\n",
              "    </g>\n",
              "</svg>\n",
              "  </button>\n",
              "\n",
              "<style>\n",
              "  .colab-df-quickchart {\n",
              "      --bg-color: #E8F0FE;\n",
              "      --fill-color: #1967D2;\n",
              "      --hover-bg-color: #E2EBFA;\n",
              "      --hover-fill-color: #174EA6;\n",
              "      --disabled-fill-color: #AAA;\n",
              "      --disabled-bg-color: #DDD;\n",
              "  }\n",
              "\n",
              "  [theme=dark] .colab-df-quickchart {\n",
              "      --bg-color: #3B4455;\n",
              "      --fill-color: #D2E3FC;\n",
              "      --hover-bg-color: #434B5C;\n",
              "      --hover-fill-color: #FFFFFF;\n",
              "      --disabled-bg-color: #3B4455;\n",
              "      --disabled-fill-color: #666;\n",
              "  }\n",
              "\n",
              "  .colab-df-quickchart {\n",
              "    background-color: var(--bg-color);\n",
              "    border: none;\n",
              "    border-radius: 50%;\n",
              "    cursor: pointer;\n",
              "    display: none;\n",
              "    fill: var(--fill-color);\n",
              "    height: 32px;\n",
              "    padding: 0;\n",
              "    width: 32px;\n",
              "  }\n",
              "\n",
              "  .colab-df-quickchart:hover {\n",
              "    background-color: var(--hover-bg-color);\n",
              "    box-shadow: 0 1px 2px rgba(60, 64, 67, 0.3), 0 1px 3px 1px rgba(60, 64, 67, 0.15);\n",
              "    fill: var(--button-hover-fill-color);\n",
              "  }\n",
              "\n",
              "  .colab-df-quickchart-complete:disabled,\n",
              "  .colab-df-quickchart-complete:disabled:hover {\n",
              "    background-color: var(--disabled-bg-color);\n",
              "    fill: var(--disabled-fill-color);\n",
              "    box-shadow: none;\n",
              "  }\n",
              "\n",
              "  .colab-df-spinner {\n",
              "    border: 2px solid var(--fill-color);\n",
              "    border-color: transparent;\n",
              "    border-bottom-color: var(--fill-color);\n",
              "    animation:\n",
              "      spin 1s steps(1) infinite;\n",
              "  }\n",
              "\n",
              "  @keyframes spin {\n",
              "    0% {\n",
              "      border-color: transparent;\n",
              "      border-bottom-color: var(--fill-color);\n",
              "      border-left-color: var(--fill-color);\n",
              "    }\n",
              "    20% {\n",
              "      border-color: transparent;\n",
              "      border-left-color: var(--fill-color);\n",
              "      border-top-color: var(--fill-color);\n",
              "    }\n",
              "    30% {\n",
              "      border-color: transparent;\n",
              "      border-left-color: var(--fill-color);\n",
              "      border-top-color: var(--fill-color);\n",
              "      border-right-color: var(--fill-color);\n",
              "    }\n",
              "    40% {\n",
              "      border-color: transparent;\n",
              "      border-right-color: var(--fill-color);\n",
              "      border-top-color: var(--fill-color);\n",
              "    }\n",
              "    60% {\n",
              "      border-color: transparent;\n",
              "      border-right-color: var(--fill-color);\n",
              "    }\n",
              "    80% {\n",
              "      border-color: transparent;\n",
              "      border-right-color: var(--fill-color);\n",
              "      border-bottom-color: var(--fill-color);\n",
              "    }\n",
              "    90% {\n",
              "      border-color: transparent;\n",
              "      border-bottom-color: var(--fill-color);\n",
              "    }\n",
              "  }\n",
              "</style>\n",
              "\n",
              "  <script>\n",
              "    async function quickchart(key) {\n",
              "      const quickchartButtonEl =\n",
              "        document.querySelector('#' + key + ' button');\n",
              "      quickchartButtonEl.disabled = true;  // To prevent multiple clicks.\n",
              "      quickchartButtonEl.classList.add('colab-df-spinner');\n",
              "      try {\n",
              "        const charts = await google.colab.kernel.invokeFunction(\n",
              "            'suggestCharts', [key], {});\n",
              "      } catch (error) {\n",
              "        console.error('Error during call to suggestCharts:', error);\n",
              "      }\n",
              "      quickchartButtonEl.classList.remove('colab-df-spinner');\n",
              "      quickchartButtonEl.classList.add('colab-df-quickchart-complete');\n",
              "    }\n",
              "    (() => {\n",
              "      let quickchartButtonEl =\n",
              "        document.querySelector('#df-3ed8fd21-edf5-47eb-ab9c-ed272c22118a button');\n",
              "      quickchartButtonEl.style.display =\n",
              "        google.colab.kernel.accessAllowed ? 'block' : 'none';\n",
              "    })();\n",
              "  </script>\n",
              "</div>\n",
              "    </div>\n",
              "  </div>\n"
            ],
            "text/plain": [
              "    Area  Perimeter  Compactness  Length  Width  Asymmetry  Groove_Length  \\\n",
              "0  15.26      14.84       0.8710   5.763  3.312      2.221          5.220   \n",
              "1  14.88      14.57       0.8811   5.554  3.333      1.018          4.956   \n",
              "2  14.29      14.09       0.9050   5.291  3.337      2.699          4.825   \n",
              "3  13.84      13.94       0.8955   5.324  3.379      2.259          4.805   \n",
              "4  16.14      14.99       0.9034   5.658  3.562      1.355          5.175   \n",
              "\n",
              "   Type  \n",
              "0     1  \n",
              "1     1  \n",
              "2     1  \n",
              "3     1  \n",
              "4     1  "
            ]
          },
          "execution_count": 2,
          "metadata": {},
          "output_type": "execute_result"
        }
      ],
      "source": [
        "# NOTE: 'seeds_dataset.txt' will need to be dragged into the local runtime before running this cell\n",
        "\n",
        "# Assign headers from original dataset website:\n",
        "df_headers = ['Area', 'Perimeter', 'Compactness', 'Length', 'Width', 'Asymmetry', 'Groove_Length', 'Type']\n",
        "\n",
        "# Import dataset:\n",
        "df = pd.read_csv('seeds_dataset.txt', sep = '\\t', header = None, names = df_headers)\n",
        "\n",
        "# Inspect the first 5 rows:\n",
        "df.head()"
      ]
    },
    {
      "cell_type": "markdown",
      "id": "c0453ae3",
      "metadata": {
        "id": "c0453ae3"
      },
      "source": [
        "Next, you will need to separate the data into your feature matrix and target vector."
      ]
    },
    {
      "cell_type": "code",
      "execution_count": null,
      "id": "15a5c76c",
      "metadata": {
        "colab": {
          "base_uri": "https://localhost:8080/"
        },
        "id": "15a5c76c",
        "outputId": "a7eac1cb-9c39-4cbe-adfb-d5d57c42280a"
      },
      "outputs": [
        {
          "name": "stdout",
          "output_type": "stream",
          "text": [
            "The shape of the feature matrix is: (210, 7)\n",
            "The shape of the target vector is: (210,)\n"
          ]
        }
      ],
      "source": [
        "# Separate the data into feature matrix and target vector:\n",
        "X = df.drop('Type', axis = 1)   # Feature Matrix\n",
        "y = df.loc[:,'Type']            # Target Vector\n",
        "\n",
        "# Print the shape of X and y:\n",
        "print(\"The shape of the feature matrix is: \" + str(X.shape))\n",
        "print(\"The shape of the target vector is: \" + str(y.shape))\n"
      ]
    },
    {
      "cell_type": "markdown",
      "id": "e5024bec",
      "metadata": {
        "id": "e5024bec"
      },
      "source": [
        "### Step 2: Preprocessing (2 marks)"
      ]
    },
    {
      "cell_type": "code",
      "execution_count": null,
      "id": "HUxiDxPtHtZx",
      "metadata": {
        "colab": {
          "base_uri": "https://localhost:8080/",
          "height": 300
        },
        "id": "HUxiDxPtHtZx",
        "outputId": "926c787c-ec19-4235-b81a-6bf75513acc9"
      },
      "outputs": [
        {
          "data": {
            "text/html": [
              "\n",
              "  <div id=\"df-ccb48898-198f-46c2-8402-6ebcf3fd8d3b\" class=\"colab-df-container\">\n",
              "    <div>\n",
              "<style scoped>\n",
              "    .dataframe tbody tr th:only-of-type {\n",
              "        vertical-align: middle;\n",
              "    }\n",
              "\n",
              "    .dataframe tbody tr th {\n",
              "        vertical-align: top;\n",
              "    }\n",
              "\n",
              "    .dataframe thead th {\n",
              "        text-align: right;\n",
              "    }\n",
              "</style>\n",
              "<table border=\"1\" class=\"dataframe\">\n",
              "  <thead>\n",
              "    <tr style=\"text-align: right;\">\n",
              "      <th></th>\n",
              "      <th>Area</th>\n",
              "      <th>Perimeter</th>\n",
              "      <th>Compactness</th>\n",
              "      <th>Length</th>\n",
              "      <th>Width</th>\n",
              "      <th>Asymmetry</th>\n",
              "      <th>Groove_Length</th>\n",
              "    </tr>\n",
              "  </thead>\n",
              "  <tbody>\n",
              "    <tr>\n",
              "      <th>count</th>\n",
              "      <td>210.000000</td>\n",
              "      <td>210.000000</td>\n",
              "      <td>210.000000</td>\n",
              "      <td>210.000000</td>\n",
              "      <td>210.000000</td>\n",
              "      <td>210.000000</td>\n",
              "      <td>210.000000</td>\n",
              "    </tr>\n",
              "    <tr>\n",
              "      <th>mean</th>\n",
              "      <td>14.847524</td>\n",
              "      <td>14.559286</td>\n",
              "      <td>0.870999</td>\n",
              "      <td>5.628533</td>\n",
              "      <td>3.258605</td>\n",
              "      <td>3.700201</td>\n",
              "      <td>5.408071</td>\n",
              "    </tr>\n",
              "    <tr>\n",
              "      <th>std</th>\n",
              "      <td>2.909699</td>\n",
              "      <td>1.305959</td>\n",
              "      <td>0.023629</td>\n",
              "      <td>0.443063</td>\n",
              "      <td>0.377714</td>\n",
              "      <td>1.503557</td>\n",
              "      <td>0.491480</td>\n",
              "    </tr>\n",
              "    <tr>\n",
              "      <th>min</th>\n",
              "      <td>10.590000</td>\n",
              "      <td>12.410000</td>\n",
              "      <td>0.808100</td>\n",
              "      <td>4.899000</td>\n",
              "      <td>2.630000</td>\n",
              "      <td>0.765100</td>\n",
              "      <td>4.519000</td>\n",
              "    </tr>\n",
              "    <tr>\n",
              "      <th>25%</th>\n",
              "      <td>12.270000</td>\n",
              "      <td>13.450000</td>\n",
              "      <td>0.856900</td>\n",
              "      <td>5.262250</td>\n",
              "      <td>2.944000</td>\n",
              "      <td>2.561500</td>\n",
              "      <td>5.045000</td>\n",
              "    </tr>\n",
              "    <tr>\n",
              "      <th>50%</th>\n",
              "      <td>14.355000</td>\n",
              "      <td>14.320000</td>\n",
              "      <td>0.873450</td>\n",
              "      <td>5.523500</td>\n",
              "      <td>3.237000</td>\n",
              "      <td>3.599000</td>\n",
              "      <td>5.223000</td>\n",
              "    </tr>\n",
              "    <tr>\n",
              "      <th>75%</th>\n",
              "      <td>17.305000</td>\n",
              "      <td>15.715000</td>\n",
              "      <td>0.887775</td>\n",
              "      <td>5.979750</td>\n",
              "      <td>3.561750</td>\n",
              "      <td>4.768750</td>\n",
              "      <td>5.877000</td>\n",
              "    </tr>\n",
              "    <tr>\n",
              "      <th>max</th>\n",
              "      <td>21.180000</td>\n",
              "      <td>17.250000</td>\n",
              "      <td>0.918300</td>\n",
              "      <td>6.675000</td>\n",
              "      <td>4.033000</td>\n",
              "      <td>8.456000</td>\n",
              "      <td>6.550000</td>\n",
              "    </tr>\n",
              "  </tbody>\n",
              "</table>\n",
              "</div>\n",
              "    <div class=\"colab-df-buttons\">\n",
              "\n",
              "  <div class=\"colab-df-container\">\n",
              "    <button class=\"colab-df-convert\" onclick=\"convertToInteractive('df-ccb48898-198f-46c2-8402-6ebcf3fd8d3b')\"\n",
              "            title=\"Convert this dataframe to an interactive table.\"\n",
              "            style=\"display:none;\">\n",
              "\n",
              "  <svg xmlns=\"http://www.w3.org/2000/svg\" height=\"24px\" viewBox=\"0 -960 960 960\">\n",
              "    <path d=\"M120-120v-720h720v720H120Zm60-500h600v-160H180v160Zm220 220h160v-160H400v160Zm0 220h160v-160H400v160ZM180-400h160v-160H180v160Zm440 0h160v-160H620v160ZM180-180h160v-160H180v160Zm440 0h160v-160H620v160Z\"/>\n",
              "  </svg>\n",
              "    </button>\n",
              "\n",
              "  <style>\n",
              "    .colab-df-container {\n",
              "      display:flex;\n",
              "      gap: 12px;\n",
              "    }\n",
              "\n",
              "    .colab-df-convert {\n",
              "      background-color: #E8F0FE;\n",
              "      border: none;\n",
              "      border-radius: 50%;\n",
              "      cursor: pointer;\n",
              "      display: none;\n",
              "      fill: #1967D2;\n",
              "      height: 32px;\n",
              "      padding: 0 0 0 0;\n",
              "      width: 32px;\n",
              "    }\n",
              "\n",
              "    .colab-df-convert:hover {\n",
              "      background-color: #E2EBFA;\n",
              "      box-shadow: 0px 1px 2px rgba(60, 64, 67, 0.3), 0px 1px 3px 1px rgba(60, 64, 67, 0.15);\n",
              "      fill: #174EA6;\n",
              "    }\n",
              "\n",
              "    .colab-df-buttons div {\n",
              "      margin-bottom: 4px;\n",
              "    }\n",
              "\n",
              "    [theme=dark] .colab-df-convert {\n",
              "      background-color: #3B4455;\n",
              "      fill: #D2E3FC;\n",
              "    }\n",
              "\n",
              "    [theme=dark] .colab-df-convert:hover {\n",
              "      background-color: #434B5C;\n",
              "      box-shadow: 0px 1px 3px 1px rgba(0, 0, 0, 0.15);\n",
              "      filter: drop-shadow(0px 1px 2px rgba(0, 0, 0, 0.3));\n",
              "      fill: #FFFFFF;\n",
              "    }\n",
              "  </style>\n",
              "\n",
              "    <script>\n",
              "      const buttonEl =\n",
              "        document.querySelector('#df-ccb48898-198f-46c2-8402-6ebcf3fd8d3b button.colab-df-convert');\n",
              "      buttonEl.style.display =\n",
              "        google.colab.kernel.accessAllowed ? 'block' : 'none';\n",
              "\n",
              "      async function convertToInteractive(key) {\n",
              "        const element = document.querySelector('#df-ccb48898-198f-46c2-8402-6ebcf3fd8d3b');\n",
              "        const dataTable =\n",
              "          await google.colab.kernel.invokeFunction('convertToInteractive',\n",
              "                                                    [key], {});\n",
              "        if (!dataTable) return;\n",
              "\n",
              "        const docLinkHtml = 'Like what you see? Visit the ' +\n",
              "          '<a target=\"_blank\" href=https://colab.research.google.com/notebooks/data_table.ipynb>data table notebook</a>'\n",
              "          + ' to learn more about interactive tables.';\n",
              "        element.innerHTML = '';\n",
              "        dataTable['output_type'] = 'display_data';\n",
              "        await google.colab.output.renderOutput(dataTable, element);\n",
              "        const docLink = document.createElement('div');\n",
              "        docLink.innerHTML = docLinkHtml;\n",
              "        element.appendChild(docLink);\n",
              "      }\n",
              "    </script>\n",
              "  </div>\n",
              "\n",
              "\n",
              "<div id=\"df-645bbbbf-5fe2-443f-9be0-94d16e8f2354\">\n",
              "  <button class=\"colab-df-quickchart\" onclick=\"quickchart('df-645bbbbf-5fe2-443f-9be0-94d16e8f2354')\"\n",
              "            title=\"Suggest charts\"\n",
              "            style=\"display:none;\">\n",
              "\n",
              "<svg xmlns=\"http://www.w3.org/2000/svg\" height=\"24px\"viewBox=\"0 0 24 24\"\n",
              "     width=\"24px\">\n",
              "    <g>\n",
              "        <path d=\"M19 3H5c-1.1 0-2 .9-2 2v14c0 1.1.9 2 2 2h14c1.1 0 2-.9 2-2V5c0-1.1-.9-2-2-2zM9 17H7v-7h2v7zm4 0h-2V7h2v10zm4 0h-2v-4h2v4z\"/>\n",
              "    </g>\n",
              "</svg>\n",
              "  </button>\n",
              "\n",
              "<style>\n",
              "  .colab-df-quickchart {\n",
              "      --bg-color: #E8F0FE;\n",
              "      --fill-color: #1967D2;\n",
              "      --hover-bg-color: #E2EBFA;\n",
              "      --hover-fill-color: #174EA6;\n",
              "      --disabled-fill-color: #AAA;\n",
              "      --disabled-bg-color: #DDD;\n",
              "  }\n",
              "\n",
              "  [theme=dark] .colab-df-quickchart {\n",
              "      --bg-color: #3B4455;\n",
              "      --fill-color: #D2E3FC;\n",
              "      --hover-bg-color: #434B5C;\n",
              "      --hover-fill-color: #FFFFFF;\n",
              "      --disabled-bg-color: #3B4455;\n",
              "      --disabled-fill-color: #666;\n",
              "  }\n",
              "\n",
              "  .colab-df-quickchart {\n",
              "    background-color: var(--bg-color);\n",
              "    border: none;\n",
              "    border-radius: 50%;\n",
              "    cursor: pointer;\n",
              "    display: none;\n",
              "    fill: var(--fill-color);\n",
              "    height: 32px;\n",
              "    padding: 0;\n",
              "    width: 32px;\n",
              "  }\n",
              "\n",
              "  .colab-df-quickchart:hover {\n",
              "    background-color: var(--hover-bg-color);\n",
              "    box-shadow: 0 1px 2px rgba(60, 64, 67, 0.3), 0 1px 3px 1px rgba(60, 64, 67, 0.15);\n",
              "    fill: var(--button-hover-fill-color);\n",
              "  }\n",
              "\n",
              "  .colab-df-quickchart-complete:disabled,\n",
              "  .colab-df-quickchart-complete:disabled:hover {\n",
              "    background-color: var(--disabled-bg-color);\n",
              "    fill: var(--disabled-fill-color);\n",
              "    box-shadow: none;\n",
              "  }\n",
              "\n",
              "  .colab-df-spinner {\n",
              "    border: 2px solid var(--fill-color);\n",
              "    border-color: transparent;\n",
              "    border-bottom-color: var(--fill-color);\n",
              "    animation:\n",
              "      spin 1s steps(1) infinite;\n",
              "  }\n",
              "\n",
              "  @keyframes spin {\n",
              "    0% {\n",
              "      border-color: transparent;\n",
              "      border-bottom-color: var(--fill-color);\n",
              "      border-left-color: var(--fill-color);\n",
              "    }\n",
              "    20% {\n",
              "      border-color: transparent;\n",
              "      border-left-color: var(--fill-color);\n",
              "      border-top-color: var(--fill-color);\n",
              "    }\n",
              "    30% {\n",
              "      border-color: transparent;\n",
              "      border-left-color: var(--fill-color);\n",
              "      border-top-color: var(--fill-color);\n",
              "      border-right-color: var(--fill-color);\n",
              "    }\n",
              "    40% {\n",
              "      border-color: transparent;\n",
              "      border-right-color: var(--fill-color);\n",
              "      border-top-color: var(--fill-color);\n",
              "    }\n",
              "    60% {\n",
              "      border-color: transparent;\n",
              "      border-right-color: var(--fill-color);\n",
              "    }\n",
              "    80% {\n",
              "      border-color: transparent;\n",
              "      border-right-color: var(--fill-color);\n",
              "      border-bottom-color: var(--fill-color);\n",
              "    }\n",
              "    90% {\n",
              "      border-color: transparent;\n",
              "      border-bottom-color: var(--fill-color);\n",
              "    }\n",
              "  }\n",
              "</style>\n",
              "\n",
              "  <script>\n",
              "    async function quickchart(key) {\n",
              "      const quickchartButtonEl =\n",
              "        document.querySelector('#' + key + ' button');\n",
              "      quickchartButtonEl.disabled = true;  // To prevent multiple clicks.\n",
              "      quickchartButtonEl.classList.add('colab-df-spinner');\n",
              "      try {\n",
              "        const charts = await google.colab.kernel.invokeFunction(\n",
              "            'suggestCharts', [key], {});\n",
              "      } catch (error) {\n",
              "        console.error('Error during call to suggestCharts:', error);\n",
              "      }\n",
              "      quickchartButtonEl.classList.remove('colab-df-spinner');\n",
              "      quickchartButtonEl.classList.add('colab-df-quickchart-complete');\n",
              "    }\n",
              "    (() => {\n",
              "      let quickchartButtonEl =\n",
              "        document.querySelector('#df-645bbbbf-5fe2-443f-9be0-94d16e8f2354 button');\n",
              "      quickchartButtonEl.style.display =\n",
              "        google.colab.kernel.accessAllowed ? 'block' : 'none';\n",
              "    })();\n",
              "  </script>\n",
              "</div>\n",
              "    </div>\n",
              "  </div>\n"
            ],
            "text/plain": [
              "             Area   Perimeter  Compactness      Length       Width  \\\n",
              "count  210.000000  210.000000   210.000000  210.000000  210.000000   \n",
              "mean    14.847524   14.559286     0.870999    5.628533    3.258605   \n",
              "std      2.909699    1.305959     0.023629    0.443063    0.377714   \n",
              "min     10.590000   12.410000     0.808100    4.899000    2.630000   \n",
              "25%     12.270000   13.450000     0.856900    5.262250    2.944000   \n",
              "50%     14.355000   14.320000     0.873450    5.523500    3.237000   \n",
              "75%     17.305000   15.715000     0.887775    5.979750    3.561750   \n",
              "max     21.180000   17.250000     0.918300    6.675000    4.033000   \n",
              "\n",
              "        Asymmetry  Groove_Length  \n",
              "count  210.000000     210.000000  \n",
              "mean     3.700201       5.408071  \n",
              "std      1.503557       0.491480  \n",
              "min      0.765100       4.519000  \n",
              "25%      2.561500       5.045000  \n",
              "50%      3.599000       5.223000  \n",
              "75%      4.768750       5.877000  \n",
              "max      8.456000       6.550000  "
            ]
          },
          "execution_count": 4,
          "metadata": {},
          "output_type": "execute_result"
        }
      ],
      "source": [
        "# Show statistics for feature matrix: (used to answer next question)\n",
        "X.describe()"
      ]
    },
    {
      "cell_type": "markdown",
      "id": "f908b657",
      "metadata": {
        "id": "f908b657"
      },
      "source": [
        "To preprocess the data, we will need to scale the data. Which scaler would you select and why? *(1 mark)*\n",
        "\n",
        "ANSWER:\n",
        "\n",
        "I plan to use the StandardScalar approach to scale the data. Since the measured features are reflecting discrepencies in nature (i.e. variations in seeds), I am assuming that the features follow a normal distribution. Looking at the cell above, most features do not have a high standard deviation and the means are close to the median 50%. For these reasons, StandardScalar in appropriate."
      ]
    },
    {
      "cell_type": "markdown",
      "id": "c29892b5",
      "metadata": {
        "id": "c29892b5"
      },
      "source": [
        "Before we implement the scaler, we need to split the data into training and testing sets first."
      ]
    },
    {
      "cell_type": "code",
      "execution_count": null,
      "id": "04f3a4bf",
      "metadata": {
        "id": "04f3a4bf"
      },
      "outputs": [],
      "source": [
        "# Import necessary sklearn module:\n",
        "from sklearn.model_selection import train_test_split\n",
        "\n",
        "# Split the data into training and testing sets:\n",
        "X_train, X_val, y_train, y_val = train_test_split(X, y, random_state = 0)"
      ]
    },
    {
      "cell_type": "code",
      "execution_count": null,
      "id": "f22529a6",
      "metadata": {
        "colab": {
          "base_uri": "https://localhost:8080/"
        },
        "id": "f22529a6",
        "outputId": "fbaf3aad-71f0-4d16-e6d6-7e72f1730953"
      },
      "outputs": [
        {
          "name": "stdout",
          "output_type": "stream",
          "text": [
            "The shape of the training feature matrix is: (157, 7)\n",
            "The shape of the training target vector is: (157,)\n"
          ]
        }
      ],
      "source": [
        "# Print the shape of the training feature matrix and target vector:\n",
        "print(\"The shape of the training feature matrix is: \" + str(X_train.shape))\n",
        "print(\"The shape of the training target vector is: \" + str(y_train.shape))"
      ]
    },
    {
      "cell_type": "markdown",
      "id": "282cbc43",
      "metadata": {
        "id": "282cbc43"
      },
      "source": [
        "Now that we have our training data, we can implement our selected scaler."
      ]
    },
    {
      "cell_type": "code",
      "execution_count": null,
      "id": "ed75b036",
      "metadata": {
        "id": "ed75b036"
      },
      "outputs": [],
      "source": [
        "# Import necessary sklearn module:\n",
        "from sklearn.preprocessing import StandardScaler\n",
        "\n",
        "# Create StandardScaler instance:\n",
        "standard_scaler = StandardScaler()\n",
        "\n",
        "# Scale the feature matrices for training and testing datasets:\n",
        "X_train = standard_scaler.fit_transform(X_train)\n",
        "X_val = standard_scaler.fit_transform(X_val)"
      ]
    },
    {
      "cell_type": "markdown",
      "id": "8cfa23f3",
      "metadata": {
        "id": "8cfa23f3"
      },
      "source": [
        "### Step 3: Model Selection (1 mark)"
      ]
    },
    {
      "cell_type": "markdown",
      "id": "773d0687",
      "metadata": {
        "id": "773d0687"
      },
      "source": [
        "The next step is to instantiate our selected model. In this case, we will be using `LogisticRegression()`"
      ]
    },
    {
      "cell_type": "code",
      "execution_count": null,
      "id": "b79801bc",
      "metadata": {
        "id": "b79801bc"
      },
      "outputs": [],
      "source": [
        "# Pipeline approach will be used here:\n",
        "from sklearn.pipeline import Pipeline\n",
        "from sklearn.linear_model import LogisticRegression\n",
        "\n",
        "# Instantiate model using Pipeline:\n",
        "log_pipeline = Pipeline(steps = [\n",
        "    ('scaler', StandardScaler()),\n",
        "    ('regressor', LogisticRegression())\n",
        "])"
      ]
    },
    {
      "cell_type": "markdown",
      "id": "2177add4",
      "metadata": {
        "id": "2177add4"
      },
      "source": [
        "### Step 4: Validation (2 marks)"
      ]
    },
    {
      "cell_type": "markdown",
      "id": "4092329e",
      "metadata": {
        "id": "4092329e"
      },
      "source": [
        "To validate the results, we need to use cross-validation. To make sure we are using the best hyperparmeters, we can use a grid search. The parameter grid has been provided below."
      ]
    },
    {
      "cell_type": "code",
      "execution_count": null,
      "id": "d3e5cfe7",
      "metadata": {
        "id": "d3e5cfe7"
      },
      "outputs": [],
      "source": [
        "# Define parameter grid for running GridSearchCV:\n",
        "log_param_grid = {'regressor__C': [0.01, 0.1, 1.0, 10.0],\n",
        "             'regressor__fit_intercept': [True, False]}"
      ]
    },
    {
      "cell_type": "code",
      "execution_count": null,
      "id": "e0317e3f",
      "metadata": {
        "colab": {
          "base_uri": "https://localhost:8080/",
          "height": 152
        },
        "id": "e0317e3f",
        "outputId": "983a1857-2bd2-4fbe-d88c-b17c8ba780bf"
      },
      "outputs": [
        {
          "data": {
            "text/html": [
              "<style>#sk-container-id-1 {color: black;background-color: white;}#sk-container-id-1 pre{padding: 0;}#sk-container-id-1 div.sk-toggleable {background-color: white;}#sk-container-id-1 label.sk-toggleable__label {cursor: pointer;display: block;width: 100%;margin-bottom: 0;padding: 0.3em;box-sizing: border-box;text-align: center;}#sk-container-id-1 label.sk-toggleable__label-arrow:before {content: \"▸\";float: left;margin-right: 0.25em;color: #696969;}#sk-container-id-1 label.sk-toggleable__label-arrow:hover:before {color: black;}#sk-container-id-1 div.sk-estimator:hover label.sk-toggleable__label-arrow:before {color: black;}#sk-container-id-1 div.sk-toggleable__content {max-height: 0;max-width: 0;overflow: hidden;text-align: left;background-color: #f0f8ff;}#sk-container-id-1 div.sk-toggleable__content pre {margin: 0.2em;color: black;border-radius: 0.25em;background-color: #f0f8ff;}#sk-container-id-1 input.sk-toggleable__control:checked~div.sk-toggleable__content {max-height: 200px;max-width: 100%;overflow: auto;}#sk-container-id-1 input.sk-toggleable__control:checked~label.sk-toggleable__label-arrow:before {content: \"▾\";}#sk-container-id-1 div.sk-estimator input.sk-toggleable__control:checked~label.sk-toggleable__label {background-color: #d4ebff;}#sk-container-id-1 div.sk-label input.sk-toggleable__control:checked~label.sk-toggleable__label {background-color: #d4ebff;}#sk-container-id-1 input.sk-hidden--visually {border: 0;clip: rect(1px 1px 1px 1px);clip: rect(1px, 1px, 1px, 1px);height: 1px;margin: -1px;overflow: hidden;padding: 0;position: absolute;width: 1px;}#sk-container-id-1 div.sk-estimator {font-family: monospace;background-color: #f0f8ff;border: 1px dotted black;border-radius: 0.25em;box-sizing: border-box;margin-bottom: 0.5em;}#sk-container-id-1 div.sk-estimator:hover {background-color: #d4ebff;}#sk-container-id-1 div.sk-parallel-item::after {content: \"\";width: 100%;border-bottom: 1px solid gray;flex-grow: 1;}#sk-container-id-1 div.sk-label:hover label.sk-toggleable__label {background-color: #d4ebff;}#sk-container-id-1 div.sk-serial::before {content: \"\";position: absolute;border-left: 1px solid gray;box-sizing: border-box;top: 0;bottom: 0;left: 50%;z-index: 0;}#sk-container-id-1 div.sk-serial {display: flex;flex-direction: column;align-items: center;background-color: white;padding-right: 0.2em;padding-left: 0.2em;position: relative;}#sk-container-id-1 div.sk-item {position: relative;z-index: 1;}#sk-container-id-1 div.sk-parallel {display: flex;align-items: stretch;justify-content: center;background-color: white;position: relative;}#sk-container-id-1 div.sk-item::before, #sk-container-id-1 div.sk-parallel-item::before {content: \"\";position: absolute;border-left: 1px solid gray;box-sizing: border-box;top: 0;bottom: 0;left: 50%;z-index: -1;}#sk-container-id-1 div.sk-parallel-item {display: flex;flex-direction: column;z-index: 1;position: relative;background-color: white;}#sk-container-id-1 div.sk-parallel-item:first-child::after {align-self: flex-end;width: 50%;}#sk-container-id-1 div.sk-parallel-item:last-child::after {align-self: flex-start;width: 50%;}#sk-container-id-1 div.sk-parallel-item:only-child::after {width: 0;}#sk-container-id-1 div.sk-dashed-wrapped {border: 1px dashed gray;margin: 0 0.4em 0.5em 0.4em;box-sizing: border-box;padding-bottom: 0.4em;background-color: white;}#sk-container-id-1 div.sk-label label {font-family: monospace;font-weight: bold;display: inline-block;line-height: 1.2em;}#sk-container-id-1 div.sk-label-container {text-align: center;}#sk-container-id-1 div.sk-container {/* jupyter's `normalize.less` sets `[hidden] { display: none; }` but bootstrap.min.css set `[hidden] { display: none !important; }` so we also need the `!important` here to be able to override the default hidden behavior on the sphinx rendered scikit-learn.org. See: https://github.com/scikit-learn/scikit-learn/issues/21755 */display: inline-block !important;position: relative;}#sk-container-id-1 div.sk-text-repr-fallback {display: none;}</style><div id=\"sk-container-id-1\" class=\"sk-top-container\"><div class=\"sk-text-repr-fallback\"><pre>GridSearchCV(cv=5,\n",
              "             estimator=Pipeline(steps=[(&#x27;scaler&#x27;, StandardScaler()),\n",
              "                                       (&#x27;regressor&#x27;, LogisticRegression())]),\n",
              "             param_grid={&#x27;regressor__C&#x27;: [0.01, 0.1, 1.0, 10.0],\n",
              "                         &#x27;regressor__fit_intercept&#x27;: [True, False]})</pre><b>In a Jupyter environment, please rerun this cell to show the HTML representation or trust the notebook. <br />On GitHub, the HTML representation is unable to render, please try loading this page with nbviewer.org.</b></div><div class=\"sk-container\" hidden><div class=\"sk-item sk-dashed-wrapped\"><div class=\"sk-label-container\"><div class=\"sk-label sk-toggleable\"><input class=\"sk-toggleable__control sk-hidden--visually\" id=\"sk-estimator-id-1\" type=\"checkbox\" ><label for=\"sk-estimator-id-1\" class=\"sk-toggleable__label sk-toggleable__label-arrow\">GridSearchCV</label><div class=\"sk-toggleable__content\"><pre>GridSearchCV(cv=5,\n",
              "             estimator=Pipeline(steps=[(&#x27;scaler&#x27;, StandardScaler()),\n",
              "                                       (&#x27;regressor&#x27;, LogisticRegression())]),\n",
              "             param_grid={&#x27;regressor__C&#x27;: [0.01, 0.1, 1.0, 10.0],\n",
              "                         &#x27;regressor__fit_intercept&#x27;: [True, False]})</pre></div></div></div><div class=\"sk-parallel\"><div class=\"sk-parallel-item\"><div class=\"sk-item\"><div class=\"sk-label-container\"><div class=\"sk-label sk-toggleable\"><input class=\"sk-toggleable__control sk-hidden--visually\" id=\"sk-estimator-id-2\" type=\"checkbox\" ><label for=\"sk-estimator-id-2\" class=\"sk-toggleable__label sk-toggleable__label-arrow\">estimator: Pipeline</label><div class=\"sk-toggleable__content\"><pre>Pipeline(steps=[(&#x27;scaler&#x27;, StandardScaler()),\n",
              "                (&#x27;regressor&#x27;, LogisticRegression())])</pre></div></div></div><div class=\"sk-serial\"><div class=\"sk-item\"><div class=\"sk-serial\"><div class=\"sk-item\"><div class=\"sk-estimator sk-toggleable\"><input class=\"sk-toggleable__control sk-hidden--visually\" id=\"sk-estimator-id-3\" type=\"checkbox\" ><label for=\"sk-estimator-id-3\" class=\"sk-toggleable__label sk-toggleable__label-arrow\">StandardScaler</label><div class=\"sk-toggleable__content\"><pre>StandardScaler()</pre></div></div></div><div class=\"sk-item\"><div class=\"sk-estimator sk-toggleable\"><input class=\"sk-toggleable__control sk-hidden--visually\" id=\"sk-estimator-id-4\" type=\"checkbox\" ><label for=\"sk-estimator-id-4\" class=\"sk-toggleable__label sk-toggleable__label-arrow\">LogisticRegression</label><div class=\"sk-toggleable__content\"><pre>LogisticRegression()</pre></div></div></div></div></div></div></div></div></div></div></div></div>"
            ],
            "text/plain": [
              "GridSearchCV(cv=5,\n",
              "             estimator=Pipeline(steps=[('scaler', StandardScaler()),\n",
              "                                       ('regressor', LogisticRegression())]),\n",
              "             param_grid={'regressor__C': [0.01, 0.1, 1.0, 10.0],\n",
              "                         'regressor__fit_intercept': [True, False]})"
            ]
          },
          "execution_count": 10,
          "metadata": {},
          "output_type": "execute_result"
        }
      ],
      "source": [
        "# Import necessary sklearn module:\n",
        "from sklearn.model_selection import GridSearchCV\n",
        "\n",
        "# Create GridSearchCV instance using logistic regression pipeline with StandardScaler and parameter grid:\n",
        "log_grid_result = GridSearchCV(log_pipeline, log_param_grid, cv = 5)\n",
        "\n",
        "# Implement the grid search:\n",
        "log_grid_result.fit(X_train, y_train)"
      ]
    },
    {
      "cell_type": "code",
      "execution_count": null,
      "id": "_aC5GWqeaLTe",
      "metadata": {
        "colab": {
          "base_uri": "https://localhost:8080/"
        },
        "id": "_aC5GWqeaLTe",
        "outputId": "2c478ef8-86b8-477f-b42c-65d43dd5a551"
      },
      "outputs": [
        {
          "name": "stdout",
          "output_type": "stream",
          "text": [
            "The logistic regression estimator with the best parameters is:\n",
            "\n",
            "Pipeline(steps=[('scaler', StandardScaler()),\n",
            "                ('regressor', LogisticRegression(C=10.0))])\n"
          ]
        }
      ],
      "source": [
        "# Print the estimator with the best parameters:\n",
        "print(\"The logistic regression estimator with the best parameters is:\\n\")\n",
        "print(log_grid_result.best_estimator_)\n"
      ]
    },
    {
      "cell_type": "code",
      "execution_count": null,
      "id": "GgWajztDa8Gv",
      "metadata": {
        "colab": {
          "base_uri": "https://localhost:8080/"
        },
        "id": "GgWajztDa8Gv",
        "outputId": "f92e6b2b-b944-4117-ab8f-fbe88a80483e"
      },
      "outputs": [
        {
          "name": "stdout",
          "output_type": "stream",
          "text": [
            "The best cross-validation score using logistic regression is:\n",
            "\n",
            "0.9368951612903226\n"
          ]
        }
      ],
      "source": [
        "# Print the best cross-validation score:\n",
        "print(\"The best cross-validation score using logistic regression is:\\n\")\n",
        "print(log_grid_result.best_score_)\n"
      ]
    },
    {
      "cell_type": "code",
      "execution_count": null,
      "id": "JRNsBQ7ubLvE",
      "metadata": {
        "colab": {
          "base_uri": "https://localhost:8080/"
        },
        "id": "JRNsBQ7ubLvE",
        "outputId": "8352c1c1-cea6-4c24-c7ae-01c9f44748b4"
      },
      "outputs": [
        {
          "name": "stdout",
          "output_type": "stream",
          "text": [
            "The best test score using logistic regression is:\n",
            "\n",
            "0.9433962264150944\n"
          ]
        }
      ],
      "source": [
        "# Grab the best estimator model:\n",
        "log_best_est = log_grid_result.best_estimator_\n",
        "\n",
        "# Run testing data through best estimator to get the best test score:\n",
        "log_best_test = log_best_est.score(X_val, y_val)\n",
        "\n",
        "# Print the best test score:\n",
        "print(\"The best test score using logistic regression is:\\n\")\n",
        "print(log_best_test)"
      ]
    },
    {
      "cell_type": "markdown",
      "id": "97cee662",
      "metadata": {
        "id": "97cee662"
      },
      "source": [
        "### Step 5: Visualize using PCA (3 marks)"
      ]
    },
    {
      "cell_type": "markdown",
      "id": "4eed3fd7",
      "metadata": {
        "id": "4eed3fd7"
      },
      "source": [
        "Now you can visualize the results from Step 4 using PCA. Use the best parameters from the previous step to predict the label for the testing data. For the plot, each data point must be colored based on the class label."
      ]
    },
    {
      "cell_type": "code",
      "execution_count": null,
      "id": "1dc2310c",
      "metadata": {
        "id": "1dc2310c"
      },
      "outputs": [],
      "source": [
        "# Predict y labels using best estimator:\n",
        "y_pred = log_best_est.predict(X_val)\n"
      ]
    },
    {
      "cell_type": "code",
      "execution_count": null,
      "id": "6a3416d3",
      "metadata": {
        "id": "6a3416d3"
      },
      "outputs": [],
      "source": [
        "# Import necessary sklearn module:\n",
        "from sklearn.decomposition import PCA\n",
        "\n",
        "# Instantiate the PCA model:\n",
        "pca = PCA()\n",
        "\n",
        "# Reduce dimensions of test data for plotting:\n",
        "pca_result = pca.fit_transform(X_val)\n"
      ]
    },
    {
      "cell_type": "code",
      "execution_count": null,
      "id": "5317451f",
      "metadata": {
        "id": "5317451f"
      },
      "outputs": [],
      "source": [
        "# Define feature names in feature matrix:\n",
        "feature_names = ['Area', 'Perimeter', 'Compactness', 'Length', 'Width', 'Asymmetry', 'Groove_Length']\n",
        "\n",
        "# Create a PCA dataframe with principle components:\n",
        "pca_df = pd.DataFrame(data=pca_result, columns=[f'PC{i}' for i in range(1, len(feature_names)+1)])\n",
        "\n",
        "# Add the target column into the PCA dataframe:\n",
        "pca_df['Type'] = y_pred\n"
      ]
    },
    {
      "cell_type": "code",
      "execution_count": null,
      "id": "9Phb_GzQn5TM",
      "metadata": {
        "colab": {
          "base_uri": "https://localhost:8080/",
          "height": 564
        },
        "id": "9Phb_GzQn5TM",
        "outputId": "07aa6947-049e-490b-cb10-cbc6d541372c"
      },
      "outputs": [
        {
          "data": {
            "image/png": "[encoded data removed]",
            "text/plain": [
              "<Figure size 800x600 with 1 Axes>"
            ]
          },
          "metadata": {},
          "output_type": "display_data"
        }
      ],
      "source": [
        "# Plot test points colored by predicted label:\n",
        "\n",
        "# Create a 2D scatter plot:\n",
        "plt.figure(figsize=(8, 6))\n",
        "\n",
        "# Visualize the first 2 principle components:\n",
        "for Type in range(1,4):\n",
        "    plt.scatter(\n",
        "        pca_df.loc[pca_df['Type'] == Type, 'PC1'],\n",
        "        pca_df.loc[pca_df['Type'] == Type, 'PC2'],\n",
        "        label=f'Wheat Variety {Type}'\n",
        "    )\n",
        "\n",
        "# Set title and axis labels:\n",
        "plt.title('PCA of Seeds Dataset (2D)')\n",
        "plt.xlabel('Principal Component 1')\n",
        "plt.ylabel('Principal Component 2')\n",
        "\n",
        "# Turn on legend and show plot:\n",
        "plt.legend()\n",
        "plt.show()\n"
      ]
    },
    {
      "cell_type": "code",
      "execution_count": null,
      "id": "3r4A4xUHoqad",
      "metadata": {
        "colab": {
          "base_uri": "https://localhost:8080/",
          "height": 521
        },
        "id": "3r4A4xUHoqad",
        "outputId": "84184e47-e960-45d2-aa55-b4b35037e436"
      },
      "outputs": [
        {
          "data": {
            "image/png": "[encoded data removed]",
            "text/plain": [
              "<Figure size 800x600 with 1 Axes>"
            ]
          },
          "metadata": {},
          "output_type": "display_data"
        }
      ],
      "source": [
        "## PLEASE NOTE: This 3D scatter plot cell was implemented out of curiosity: (please don't grade)\n",
        "\n",
        "# Import necessary sklearn modules:\n",
        "import matplotlib.pyplot as plt\n",
        "from mpl_toolkits.mplot3d import Axes3D\n",
        "\n",
        "# Create a 3D scatter plot:\n",
        "fig = plt.figure(figsize=(8, 6))\n",
        "ax = fig.add_subplot(111, projection='3d')\n",
        "\n",
        "# Visualize the first three principal components:\n",
        "for Type in range(1, 4):\n",
        "  data_type = pca_df[y_pred == Type]\n",
        "  ax.scatter(data_type['PC1'], data_type['PC2'], data_type['PC3'],label=f'Wheat Variety {Type}')\n",
        "\n",
        "# Set title and axis labels:\n",
        "ax.set_title('PCA of Seeds Dataset (3D)')\n",
        "ax.set_xlabel('Principal Component 1')\n",
        "ax.set_ylabel('Principal Component 2')\n",
        "ax.set_zlabel('Principal Component 3')\n",
        "\n",
        "# Turn on legend and show plot:\n",
        "ax.legend()\n",
        "plt.show()\n"
      ]
    },
    {
      "cell_type": "markdown",
      "id": "296ea401",
      "metadata": {
        "id": "296ea401"
      },
      "source": [
        "#### Questions (4 marks)\n",
        "\n",
        "1. Did the logistic regression model work well for this dataset? Why would you make this conclusion? *(2 marks)*\n",
        "\n",
        "2. Did PCA work well for this model? How does this relate to the results from the model used? *(2 marks)*\n",
        "\n",
        "#### Answers\n",
        "\n",
        "1. The logistic regression model worked well for this dataset. The best model (C = 10 with standard scaling) produced a cross validation score of 0.937, which was calculated using 5 folds in the data. This is a good indication that StandardScaler was a good choice for preprocessing the data and that the model works well on the dataset.\n",
        "\n",
        "2. PCA worked well for this dataset. When using the results from section 4 to color code the PCA data points with the PCA results in a 2D scatter plot, it can be seen that there is a clear distinction between the 3 wheat variety groupings. The boundaries are distinct enough using only the first 2 principle components that they appear as though they could be separated with a straight line for each boundary."
      ]
    },
    {
      "cell_type": "markdown",
      "id": "c88a3cf1",
      "metadata": {
        "id": "c88a3cf1"
      },
      "source": [
        "### Process Description (4 marks)\n",
        "Please describe the process you used to create your code. Cite any websites or generative AI tools used. You can use the following questions as guidance:\n",
        "1. Where did you source your code?\n",
        "2. In what order did you complete the steps?\n",
        "3. Did you have any challenges? If yes, what were they? If not, what helped you to be successful?"
      ]
    },
    {
      "cell_type": "markdown",
      "id": "d8336341",
      "metadata": {
        "id": "d8336341"
      },
      "source": [
        "###Process Description Answers:\n",
        "1. All code was written by me. Code was sourced by looking at work that was completed during lab sessions and the answer keys for those sessions that are posted on D2L. Official Sklearn documentation was used in conjunction with ChatGPT to clarify how to use functions that were unknown to me.\n",
        "\n",
        "2. The steps were completed as follows:\n",
        "\n",
        "    - Add dataset as a local instance by dragging into drive. Load in dataset / explore\n",
        "    - Separate dataset into feature matrix and target vector\n",
        "    - Create training / validation datasets\n",
        "    - Create pipeline with chosen scaler & parameter grid (assuming it wasn't provided)\n",
        "    - Run through grid search and find the best model / results\n",
        "    - Use the best results as the classifications for PCA\n",
        "    - Run PCA on parameters and plot results\n",
        "\n",
        "3. Initially I found it challenging to link the results from section 4 into the PCA component for section 5. I was trying to use the 'y_test' dataframe to map to the PCA dataframe and I couldn't figure out why there were NULL values where I was expecting some classification types to be. I realized that I was supposed to use 'y_pred', and that the reason 'y_test' did not work was due to an index mismatch."
      ]
    },
    {
      "cell_type": "markdown",
      "id": "3bf578b1",
      "metadata": {
        "id": "3bf578b1"
      },
      "source": [
        "## Part 2. Implement clustering (20 marks)"
      ]
    },
    {
      "cell_type": "markdown",
      "id": "937cb37b",
      "metadata": {
        "id": "937cb37b"
      },
      "source": [
        "The agricultural company approaches you again because they lost all the labels for their data. Use the Kmeans clustering method to assign labels to the seeds dataset used in Part 1."
      ]
    },
    {
      "cell_type": "markdown",
      "id": "980c62e1",
      "metadata": {
        "id": "980c62e1"
      },
      "source": [
        "### Step 1: Cluster using original data (6 marks)\n",
        "\n",
        "This part of the assignment asks you to implement Kmeans clustering using the orginal feature matrix (after scaling has been performed)."
      ]
    },
    {
      "cell_type": "code",
      "execution_count": null,
      "id": "e2c441df",
      "metadata": {
        "id": "e2c441df"
      },
      "outputs": [],
      "source": [
        "# Create StandardScaler instance:\n",
        "standard_scaler = StandardScaler()\n",
        "\n",
        "# Scale the feature matrices for training and testing datasets:\n",
        "X_train = standard_scaler.fit_transform(X_train)\n",
        "X_val = standard_scaler.fit_transform(X_val)"
      ]
    },
    {
      "cell_type": "markdown",
      "id": "6efb7a1b",
      "metadata": {
        "id": "6efb7a1b"
      },
      "source": [
        "The first step is to use the elbow method to determine the optimal number of clusters. In this case, you can use the distortion metric."
      ]
    },
    {
      "cell_type": "code",
      "execution_count": null,
      "id": "5f85da0b",
      "metadata": {
        "colab": {
          "base_uri": "https://localhost:8080/",
          "height": 472
        },
        "id": "5f85da0b",
        "outputId": "956d53d3-765d-4a0b-c266-1fe69b9b2dad"
      },
      "outputs": [
        {
          "data": {
            "image/png": "[encoded data removed]",
            "text/plain": [
              "<Figure size 640x480 with 1 Axes>"
            ]
          },
          "metadata": {},
          "output_type": "display_data"
        }
      ],
      "source": [
        "# Use the elbow method to determine the optimal number of clusters:\n",
        "\n",
        "# Import necessary sklearn modules:\n",
        "import warnings\n",
        "from sklearn.cluster import KMeans\n",
        "from sklearn.model_selection import cross_val_score\n",
        "\n",
        "# Suppress depreciation warning for KMeans:\n",
        "warnings.filterwarnings('ignore', message = 'The default value of `n_init`')\n",
        "\n",
        "# Define the range of k values to try:\n",
        "k_values = list(range(1,50))\n",
        "\n",
        "# Create a list to store the distortion metrics for each k value:\n",
        "distortion_metrics = []\n",
        "\n",
        "# Perform k-fold cross-validation for each k in k_values:\n",
        "for k in k_values:\n",
        "\n",
        "  # Instantiate the current model:\n",
        "  curr_kmeans = KMeans(n_clusters = k, random_state = 0)\n",
        "\n",
        "  # Fit the current model to the training dataset:\n",
        "  curr_kmeans.fit(X_train)\n",
        "\n",
        "  # Add distortion metric for current model to list:\n",
        "  distortion_metrics.append(curr_kmeans.inertia_)\n",
        "\n",
        "# Plot the distortion values for different k values:\n",
        "plt.plot(k_values, distortion_metrics, marker='o')\n",
        "plt.xlabel('k (Number of Neighbors)')\n",
        "plt.ylabel('Distortion Metric')\n",
        "plt.title('Distortion Metric vs. k for KMeans')\n",
        "plt.show()\n"
      ]
    },
    {
      "cell_type": "markdown",
      "id": "9rl4KMzdgJVb",
      "metadata": {
        "id": "9rl4KMzdgJVb"
      },
      "source": [
        "## Elbow Identification:\n",
        "\n",
        "It can be seen that the rate of distortion decrease falls off significantly after k = 3.\n",
        "\n",
        "This point has been identified as the elbow and therefore k = 3 will be used moving forward."
      ]
    },
    {
      "cell_type": "markdown",
      "id": "be361544",
      "metadata": {
        "id": "be361544"
      },
      "source": [
        "Next, implement Kmeans and calculate the following validation metrics:\n",
        "- Silhouette score\n",
        "- Calinski-Harabasz score\n",
        "- Davies-Bouldin score"
      ]
    },
    {
      "cell_type": "code",
      "execution_count": null,
      "id": "da40bf77",
      "metadata": {
        "id": "da40bf77"
      },
      "outputs": [],
      "source": [
        "# Assign optimal k based on interpretation of above graph:\n",
        "k_optimal = 3\n",
        "\n",
        "# Instantiate model to be used:\n",
        "final_model = KMeans(n_clusters = k_optimal)\n",
        "\n",
        "# Fit model using training datasets:\n",
        "final_model.fit(X_train, y_train)\n",
        "\n",
        "# Implement K-means on testing data with the number of clusters determined in the previous step:\n",
        "y_predicted = final_model.predict(X_val)"
      ]
    },
    {
      "cell_type": "code",
      "execution_count": null,
      "id": "085dc51c",
      "metadata": {
        "colab": {
          "base_uri": "https://localhost:8080/"
        },
        "id": "085dc51c",
        "outputId": "5fc47f71-d96f-432e-c708-542ba9cb94aa"
      },
      "outputs": [
        {
          "name": "stdout",
          "output_type": "stream",
          "text": [
            "The Silhouette validation metric is: 0.4043425234100302\n"
          ]
        }
      ],
      "source": [
        "# Import necessary sklearn module:\n",
        "from sklearn.metrics import silhouette_score\n",
        "\n",
        "# Calculate the Silhouette score:\n",
        "sil = silhouette_score(X_val, y_predicted)\n",
        "\n",
        "# Print the Silhouette score to the console:\n",
        "print(\"The Silhouette validation metric is: \" + str(sil))\n"
      ]
    },
    {
      "cell_type": "code",
      "execution_count": null,
      "id": "zePwl5zsiDh9",
      "metadata": {
        "colab": {
          "base_uri": "https://localhost:8080/"
        },
        "id": "zePwl5zsiDh9",
        "outputId": "6f9c0761-b74b-4b9c-af1a-96407cf17417"
      },
      "outputs": [
        {
          "name": "stdout",
          "output_type": "stream",
          "text": [
            "The Calinski-Harabasz validation metric is: 64.14813666384649\n"
          ]
        }
      ],
      "source": [
        "# Import necessary sklearn module:\n",
        "from sklearn.metrics import calinski_harabasz_score\n",
        "\n",
        "# Calculate the Calinski-Harabasz score:\n",
        "cal = calinski_harabasz_score(X_val, y_predicted)\n",
        "\n",
        "# Print the Calinski-Harabasz score to the console:\n",
        "print(\"The Calinski-Harabasz validation metric is: \" + str(cal))\n"
      ]
    },
    {
      "cell_type": "code",
      "execution_count": null,
      "id": "6kVJ-AXIiERe",
      "metadata": {
        "colab": {
          "base_uri": "https://localhost:8080/"
        },
        "id": "6kVJ-AXIiERe",
        "outputId": "e634c9f2-f6a8-41fd-bd97-15d2244d9330"
      },
      "outputs": [
        {
          "name": "stdout",
          "output_type": "stream",
          "text": [
            "The Davies-Bouldin validation metric is: 0.8733253088980723\n"
          ]
        }
      ],
      "source": [
        "# Import necessary sklearn module:\n",
        "from sklearn.metrics import davies_bouldin_score\n",
        "\n",
        "# Calculate the Davies-Bouldin score:\n",
        "dav = davies_bouldin_score(X_val, y_predicted)\n",
        "\n",
        "# Print the Davies-Bouldin score to the console:\n",
        "print(\"The Davies-Bouldin validation metric is: \" + str(dav))\n"
      ]
    },
    {
      "cell_type": "markdown",
      "id": "40e40c04",
      "metadata": {
        "id": "40e40c04"
      },
      "source": [
        "Plot the clustering results using PCA. Remember to color each data point based on the cluster label."
      ]
    },
    {
      "cell_type": "code",
      "execution_count": null,
      "id": "47012908",
      "metadata": {
        "colab": {
          "base_uri": "https://localhost:8080/",
          "height": 564
        },
        "id": "47012908",
        "outputId": "fc8dc746-f470-43ad-fa9d-51fa8579b3e4"
      },
      "outputs": [
        {
          "data": {
            "image/png": "[encoded data removed]",
            "text/plain": [
              "<Figure size 800x600 with 1 Axes>"
            ]
          },
          "metadata": {},
          "output_type": "display_data"
        }
      ],
      "source": [
        "# Instantiate the PCA model:\n",
        "pca2 = PCA()\n",
        "\n",
        "# Reduce dimensions of test data for plotting:\n",
        "pca_result2 = pca2.fit_transform(X_val)\n",
        "\n",
        "# Define feature names in feature matrix:\n",
        "feature_names = ['Area', 'Perimeter', 'Compactness', 'Length', 'Width', 'Asymmetry', 'Groove_Length']\n",
        "\n",
        "# Create a PCA dataframe with principle components:\n",
        "pca_df2 = pd.DataFrame(data=pca_result2, columns=[f'PC{i}' for i in range(1, len(feature_names)+1)])\n",
        "\n",
        "# Add the target column into the PCA dataframe:\n",
        "pca_df2['Type'] = y_predicted\n",
        "\n",
        "# Create a 2D scatter plot:\n",
        "plt.figure(figsize=(8, 6))\n",
        "\n",
        "# Visualize the first 2 principle components:\n",
        "for Type in range(0,3):\n",
        "    plt.scatter(\n",
        "        pca_df2.loc[pca_df2['Type'] == Type, 'PC1'],\n",
        "        pca_df2.loc[pca_df2['Type'] == Type, 'PC2'],\n",
        "        label=f'Wheat Variety {Type}'\n",
        "    )\n",
        "\n",
        "# Set title and axis labels:\n",
        "plt.title('PCA of Seeds Dataset with KMeans Clustering (2D)')\n",
        "plt.xlabel('Principal Component 1')\n",
        "plt.ylabel('Principal Component 2')\n",
        "\n",
        "# Turn on legend and show plot:\n",
        "plt.legend()\n",
        "plt.show()"
      ]
    },
    {
      "cell_type": "markdown",
      "id": "48df428e",
      "metadata": {
        "id": "48df428e"
      },
      "source": [
        "### Step 2: Cluster using PCA-transformed data (4 marks)\n",
        "\n",
        "Implement Kmeans clustering using PCA-transformed data. The first step is to use the explained variance ratio to find the number of components required to explain at least 95% of the variance."
      ]
    },
    {
      "cell_type": "code",
      "execution_count": null,
      "id": "de0a5d80",
      "metadata": {
        "colab": {
          "base_uri": "https://localhost:8080/"
        },
        "id": "de0a5d80",
        "outputId": "f8575b33-289a-4282-c493-7f547222ebf8"
      },
      "outputs": [
        {
          "name": "stdout",
          "output_type": "stream",
          "text": [
            "The number of components that can explain 95% of the variance in the data is: 3\n"
          ]
        }
      ],
      "source": [
        "# Find the number of principal components using explained variance ratio:\n",
        "\n",
        "# Grab the explained variancee ratios for the PCA model:\n",
        "explained_variances = pca2.explained_variance_ratio_\n",
        "\n",
        "# Calculate the cumulative sum of all variance ratios:\n",
        "sum_variances = np.cumsum(explained_variances)\n",
        "\n",
        "# Assign the target for desired variance:\n",
        "variance_target = 0.95\n",
        "\n",
        "# Find the index where the total is higher than 0.95 and add 1 to find the # of components:\n",
        "num_components = np.argmax(sum_variances >= variance_target) + 1\n",
        "\n",
        "# Print the number of components that are required to explain 95% of the variance to the console:\n",
        "print(\"The number of components that can explain 95% of the variance in the data is: \" + str(num_components))"
      ]
    },
    {
      "cell_type": "markdown",
      "id": "8af06a41",
      "metadata": {
        "id": "8af06a41"
      },
      "source": [
        "Next, transform the data using PCA, implement Kmeans and calculate the three validation metrics used in the previous step."
      ]
    },
    {
      "cell_type": "code",
      "execution_count": null,
      "id": "3ed38b89",
      "metadata": {
        "id": "3ed38b89"
      },
      "outputs": [],
      "source": [
        "# Instantiate the PCA model using the number of components found in the step above:\n",
        "pca3 = PCA(n_components = num_components)\n",
        "\n",
        "# Use PCA to transform the datasets into 3-PCA format:\n",
        "transformed_train_data = pca3.fit_transform(X_train)\n",
        "transformed_val_data = pca3.fit_transform(X_val)\n"
      ]
    },
    {
      "cell_type": "code",
      "execution_count": null,
      "id": "cc8b981e",
      "metadata": {
        "id": "cc8b981e"
      },
      "outputs": [],
      "source": [
        "# Implement K-means with the transformed data: (assuming that 3 is still the optimal number of clusters)\n",
        "k_optimal = 3\n",
        "\n",
        "# Instantiate model to be used:\n",
        "transformed_model = KMeans(n_clusters = k_optimal)\n",
        "\n",
        "# Fit model using the transformed training dataset:\n",
        "transformed_model.fit(transformed_train_data, y_train)\n",
        "\n",
        "# Implement K-means on testing data using model trained on transformed data:\n",
        "transformed_y_predicted = transformed_model.predict(transformed_val_data)\n"
      ]
    },
    {
      "cell_type": "code",
      "execution_count": null,
      "id": "f5a3bf4b",
      "metadata": {
        "colab": {
          "base_uri": "https://localhost:8080/"
        },
        "id": "f5a3bf4b",
        "outputId": "bb847c9f-1eeb-4156-864c-92d47c8633e7"
      },
      "outputs": [
        {
          "name": "stdout",
          "output_type": "stream",
          "text": [
            "The Silhouette validation metric is: 0.2617193002716969\n",
            "The Calinski-Harabasz validation metric is: 37.78964212763718\n",
            "The Davies-Bouldin validation metric is: 1.2313720980394782\n"
          ]
        }
      ],
      "source": [
        "# Calculate the three different validation metrics:\n",
        "trans_sil = silhouette_score(transformed_val_data, transformed_y_predicted)\n",
        "trans_cal = calinski_harabasz_score(transformed_val_data, transformed_y_predicted)\n",
        "trans_dav = davies_bouldin_score(transformed_val_data, transformed_y_predicted)\n",
        "\n",
        "# Print the three different validation metrics to the console:\n",
        "print(\"The Silhouette validation metric is: \" + str(trans_sil))\n",
        "print(\"The Calinski-Harabasz validation metric is: \" + str(trans_cal))\n",
        "print(\"The Davies-Bouldin validation metric is: \" + str(trans_dav))"
      ]
    },
    {
      "cell_type": "markdown",
      "id": "50eb5219",
      "metadata": {
        "id": "50eb5219"
      },
      "source": [
        "### Step 3: Display results (2 marks)\n",
        "\n",
        "Print the results for Steps 2 and 3 in a table. Include column and row labels"
      ]
    },
    {
      "cell_type": "code",
      "execution_count": null,
      "id": "6c945947",
      "metadata": {
        "colab": {
          "base_uri": "https://localhost:8080/"
        },
        "id": "6c945947",
        "outputId": "8ba7a5e3-113f-403b-d996-0dd111184501"
      },
      "outputs": [
        {
          "name": "stdout",
          "output_type": "stream",
          "text": [
            "              Silhouette  Calinski-Harabasz  Davies-Bouldin\n",
            "KMeans Elbow    0.404343          64.148137        0.873325\n",
            "PCA + KMeans    0.261719          37.789642        1.231372\n"
          ]
        }
      ],
      "source": [
        "# TODO: Display results\n",
        "\n",
        "# Create data for validation metrics from both solutions:\n",
        "table_data = [\n",
        "    [sil, cal, dav],\n",
        "    [trans_sil, trans_cal, trans_dav]\n",
        "]\n",
        "\n",
        "# Create headers and index labels:\n",
        "header_df = ['Silhouette', 'Calinski-Harabasz', 'Davies-Bouldin']\n",
        "index_df = ['KMeans Elbow', 'PCA + KMeans']\n",
        "\n",
        "# Create the dataframe for the table:\n",
        "display_df = pd.DataFrame(table_data, columns = header_df, index = index_df)\n",
        "\n",
        "# Print the table to the console:\n",
        "print(display_df)"
      ]
    },
    {
      "cell_type": "markdown",
      "id": "e1086de9",
      "metadata": {
        "id": "e1086de9"
      },
      "source": [
        "#### Questions (4 marks)\n",
        "\n",
        "1. Did the optimal number of clusters make sense based on the context? *(1 mark)*\n",
        "1. Compare the PCA plot from Part 2 step 1 to the PCA plot from Part 1. Did we get similar results? *(1 mark)*\n",
        "1. How many components did you use for the PCA analysis? Did using PCA improve your results? Why or why not? *(2 marks)*\n",
        "\n",
        "\n",
        "#### Answers:\n",
        "\n",
        "1. The optimal number of clusters being 3 makes sense given the context that we already know the dataset was curated using 3 different types of wheat (Kama, Rosa, and Canadian).\n",
        "\n",
        "2. When comparing the PCA plot from Part 2 step 1 to the PCA plot from Part 1, we can see that the results are very similar. There were only minor differences between the 2 scatter plots and only 2 - 3 changes in classifications along the boundary between clusters.\n",
        "\n",
        "3. I used 3 components for my PCA analysis. This is due to the fact that 95% of all variance was explained using the most important 3 principle components. Using PCA before applying KMeans clustering (second approach) did not improve results across all evaluation metrics. The second approach produced lower Silhouette and Calinski-Harabasz metrics and a higher Davies-Bouldin metric. One reason for this could be that the initial 7 dimensions had variance in it that couldn't be captured by the first 3 principle components."
      ]
    },
    {
      "cell_type": "markdown",
      "id": "521489ee",
      "metadata": {
        "id": "521489ee"
      },
      "source": [
        "### Process Description (4 marks)\n",
        "Please describe the process you used to create your code. Cite any websites or generative AI tools used. You can use the following questions as guidance:\n",
        "1. Where did you source your code?\n",
        "2. In what order did you complete the steps?\n",
        "3. Did you have any challenges? If yes, what were they? If not, what helped you to be successful?"
      ]
    },
    {
      "cell_type": "markdown",
      "id": "e4ae4b12",
      "metadata": {
        "id": "e4ae4b12"
      },
      "source": [
        "###Process Description Answers:\n",
        "1. All code was written by me. Code was sourced by looking at work that was completed during lab sessions and the answer keys for those sessions that are posted on D2L. Official Sklearn documentation was used in conjunction with ChatGPT to clarify how to use functions that were unknown to me. I also referenced the implementation from the first half of this lab.\n",
        "\n",
        "2. The steps were completed as follows:\n",
        "\n",
        "    - Scale training and testing datasets appropriately\n",
        "    - Use elbow method (with distortion metric) to determine optimal number of clusters\n",
        "    - Implement KMeans of scaled training data and calculate 3 validation metrics\n",
        "    - Plot KMeans classification results using first 2 PCA components\n",
        "    - Find optimal number of principal components using explained variance ratio\n",
        "    - Transform training and testing data into 3 (optimal) PCA components\n",
        "    - Implement KMeans of 3-PCA transformed data and calculate 3 validation metrics\n",
        "    - Create table comparing validation metrics from both approaches\n",
        "\n",
        "3. I found it a little confusing in the way some of the tasks were described in the last section here. For this reason I was asking Chat if the logic to my code made sense when I was unsure of if I was meeting an assigned task requirement."
      ]
    },
    {
      "cell_type": "markdown",
      "id": "05e42ec7",
      "metadata": {
        "id": "05e42ec7"
      },
      "source": [
        "## Part 3: Reflection (2 marks)\n",
        "Include a sentence or two about:\n",
        "- what you liked or disliked,\n",
        "- found interesting, confusing, challangeing, motivating\n",
        "while working on this assignment.\n",
        "\n",
        "\n",
        "## Reflection:\n",
        "\n",
        "I liked the concept of using PCA to transform a dataset into a kind of compressed set of attributes before training a model. In this scenario it did not turn out to benefit the model but I can see it being beneficial for other models where there may be more attributes that are not as relevant to solving the problem at hand. I found that using the concept of pipelines from the previous assignment was helpful in the first half of this assignment when trying to figure out what parameters to use for the initial logistic regression model."
      ]
    }
  ],
  "metadata": {
    "colab": {
      "provenance": []
    },
    "kernelspec": {
      "display_name": "Python 3 (ipykernel)",
      "language": "python",
      "name": "python3"
    },
    "language_info": {
      "codemirror_mode": {
        "name": "ipython",
        "version": 3
      },
      "file_extension": ".py",
      "mimetype": "text/x-python",
      "name": "python",
      "nbconvert_exporter": "python",
      "pygments_lexer": "ipython3",
      "version": "3.11.3"
    }
  },
  "nbformat": 4,
  "nbformat_minor": 5
}
